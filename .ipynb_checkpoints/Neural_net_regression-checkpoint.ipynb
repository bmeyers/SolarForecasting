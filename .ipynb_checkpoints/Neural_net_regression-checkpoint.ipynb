{
 "cells": [
  {
   "cell_type": "markdown",
   "metadata": {},
   "source": [
    "# Neural network regression\n",
    "\n",
    "In this many-to-one regression setup, we stack the series from all inverters into a long vector and try to predict the aggregate power a few steps ahead. First we load the data and get rid of NaNs:"
   ]
  },
  {
   "cell_type": "code",
   "execution_count": 1,
   "metadata": {
    "collapsed": true
   },
   "outputs": [],
   "source": [
    "import pandas as pd\n",
    "\n",
    "#df = pd.read_csv('data/data.csv').fillna(0)\n",
    "df = pd.read_pickle('data/master_dataset.pkl').fillna(0)"
   ]
  },
  {
   "cell_type": "markdown",
   "metadata": {},
   "source": [
    " We define the problem and a set of hyperparemeters to tune later:"
   ]
  },
  {
   "cell_type": "code",
   "execution_count": 2,
   "metadata": {},
   "outputs": [
    {
     "name": "stderr",
     "output_type": "stream",
     "text": [
      "/Users/bennetmeyers/.virtualenvs/sc/lib/python2.7/site-packages/statsmodels/compat/pandas.py:56: FutureWarning: The pandas.core.datetools module is deprecated and will be removed in a future version. Please use the pandas.tseries module instead.\n",
      "  from pandas.core import datetools\n"
     ]
    }
   ],
   "source": [
    "from core.problems import ManyToOneRegression\n",
    "\n",
    "# Problem parameters\n",
    "window = 256 # window size (to be determined from correlation analysis)\n",
    "future = 50  # prediction window into the future\n",
    "\n",
    "# Optimization parameters\n",
    "nepochs = 50\n",
    "batchsize = 1000\n",
    "\n",
    "problem = ManyToOneRegression(df, window=window, future=future)"
   ]
  },
  {
   "cell_type": "markdown",
   "metadata": {},
   "source": [
    "## Training"
   ]
  },
  {
   "cell_type": "code",
   "execution_count": 3,
   "metadata": {
    "scrolled": false
   },
   "outputs": [
    {
     "name": "stderr",
     "output_type": "stream",
     "text": [
      "Using TensorFlow backend.\n"
     ]
    },
    {
     "name": "stdout",
     "output_type": "stream",
     "text": [
      "Train on 900 samples, validate on 100 samples\n",
      "Epoch 1/1\n",
      "900/900 [==============================] - 0s 550us/step - loss: 8046.4295 - mean_squared_error: 8046.4295 - val_loss: 3329.7776 - val_mean_squared_error: 3329.7776\n",
      "Train on 900 samples, validate on 100 samples\n",
      "Epoch 1/1\n",
      "900/900 [==============================] - 0s 430us/step - loss: 1953.9328 - mean_squared_error: 1953.9328 - val_loss: 1166.3844 - val_mean_squared_error: 1166.3844\n",
      "Train on 900 samples, validate on 100 samples\n",
      "Epoch 1/1\n",
      "900/900 [==============================] - 0s 414us/step - loss: 1253.2980 - mean_squared_error: 1253.2980 - val_loss: 1035.8314 - val_mean_squared_error: 1035.8314\n",
      "Train on 900 samples, validate on 100 samples\n",
      "Epoch 1/1\n",
      "900/900 [==============================] - 0s 431us/step - loss: 954.9632 - mean_squared_error: 954.9632 - val_loss: 938.1919 - val_mean_squared_error: 938.1919\n",
      "Train on 900 samples, validate on 100 samples\n",
      "Epoch 1/1\n",
      "900/900 [==============================] - 0s 409us/step - loss: 854.7626 - mean_squared_error: 854.7626 - val_loss: 1291.6732 - val_mean_squared_error: 1291.6732\n",
      "Train on 900 samples, validate on 100 samples\n",
      "Epoch 1/1\n",
      "900/900 [==============================] - 0s 428us/step - loss: 987.4268 - mean_squared_error: 987.4268 - val_loss: 757.8757 - val_mean_squared_error: 757.8757\n",
      "Train on 900 samples, validate on 100 samples\n",
      "Epoch 1/1\n",
      "900/900 [==============================] - 0s 448us/step - loss: 723.8858 - mean_squared_error: 723.8858 - val_loss: 1014.0278 - val_mean_squared_error: 1014.0278\n",
      "Train on 900 samples, validate on 100 samples\n",
      "Epoch 1/1\n",
      "900/900 [==============================] - 1s 574us/step - loss: 902.3501 - mean_squared_error: 902.3501 - val_loss: 601.8793 - val_mean_squared_error: 601.8793\n",
      "Train on 900 samples, validate on 100 samples\n",
      "Epoch 1/1\n",
      "900/900 [==============================] - 0s 377us/step - loss: 864.0578 - mean_squared_error: 864.0578 - val_loss: 812.2970 - val_mean_squared_error: 812.2970\n",
      "Train on 900 samples, validate on 100 samples\n",
      "Epoch 1/1\n",
      "900/900 [==============================] - 0s 391us/step - loss: 880.3766 - mean_squared_error: 880.3766 - val_loss: 538.1016 - val_mean_squared_error: 538.1016\n",
      "Train on 900 samples, validate on 100 samples\n",
      "Epoch 1/1\n",
      "900/900 [==============================] - 0s 380us/step - loss: 941.2047 - mean_squared_error: 941.2047 - val_loss: 742.8532 - val_mean_squared_error: 742.8532\n",
      "Train on 900 samples, validate on 100 samples\n",
      "Epoch 1/1\n",
      "900/900 [==============================] - 0s 399us/step - loss: 780.8128 - mean_squared_error: 780.8128 - val_loss: 934.1980 - val_mean_squared_error: 934.1980\n",
      "Train on 900 samples, validate on 100 samples\n",
      "Epoch 1/1\n",
      "900/900 [==============================] - 0s 374us/step - loss: 737.4328 - mean_squared_error: 737.4328 - val_loss: 859.3130 - val_mean_squared_error: 859.3130\n",
      "Train on 900 samples, validate on 100 samples\n",
      "Epoch 1/1\n",
      "900/900 [==============================] - 0s 389us/step - loss: 717.5999 - mean_squared_error: 717.5999 - val_loss: 1250.4202 - val_mean_squared_error: 1250.4202\n",
      "Train on 900 samples, validate on 100 samples\n",
      "Epoch 1/1\n",
      "900/900 [==============================] - 0s 377us/step - loss: 859.2394 - mean_squared_error: 859.2394 - val_loss: 661.8655 - val_mean_squared_error: 661.8655\n",
      "Train on 900 samples, validate on 100 samples\n",
      "Epoch 1/1\n",
      "900/900 [==============================] - 0s 392us/step - loss: 801.7743 - mean_squared_error: 801.7743 - val_loss: 706.1004 - val_mean_squared_error: 706.1004\n",
      "Train on 900 samples, validate on 100 samples\n",
      "Epoch 1/1\n",
      "900/900 [==============================] - 0s 377us/step - loss: 790.7658 - mean_squared_error: 790.7658 - val_loss: 861.4460 - val_mean_squared_error: 861.4460\n",
      "Train on 900 samples, validate on 100 samples\n",
      "Epoch 1/1\n",
      "900/900 [==============================] - 0s 391us/step - loss: 781.9162 - mean_squared_error: 781.9162 - val_loss: 771.1253 - val_mean_squared_error: 771.1253\n",
      "Train on 900 samples, validate on 100 samples\n",
      "Epoch 1/1\n",
      "900/900 [==============================] - 0s 378us/step - loss: 600.9609 - mean_squared_error: 600.9609 - val_loss: 572.5161 - val_mean_squared_error: 572.5161\n",
      "Train on 900 samples, validate on 100 samples\n",
      "Epoch 1/1\n",
      "900/900 [==============================] - 0s 405us/step - loss: 756.4428 - mean_squared_error: 756.4428 - val_loss: 637.3192 - val_mean_squared_error: 637.3192\n",
      "Train on 900 samples, validate on 100 samples\n",
      "Epoch 1/1\n",
      "900/900 [==============================] - 0s 427us/step - loss: 856.0437 - mean_squared_error: 856.0437 - val_loss: 1375.2723 - val_mean_squared_error: 1375.2723\n",
      "Train on 900 samples, validate on 100 samples\n",
      "Epoch 1/1\n",
      "900/900 [==============================] - 0s 399us/step - loss: 839.1404 - mean_squared_error: 839.1404 - val_loss: 834.0573 - val_mean_squared_error: 834.0573\n",
      "Train on 900 samples, validate on 100 samples\n",
      "Epoch 1/1\n",
      "900/900 [==============================] - 0s 409us/step - loss: 763.1661 - mean_squared_error: 763.1661 - val_loss: 581.6767 - val_mean_squared_error: 581.6767\n",
      "Train on 900 samples, validate on 100 samples\n",
      "Epoch 1/1\n",
      "900/900 [==============================] - 0s 414us/step - loss: 730.6874 - mean_squared_error: 730.6874 - val_loss: 951.4253 - val_mean_squared_error: 951.4253\n",
      "Train on 900 samples, validate on 100 samples\n",
      "Epoch 1/1\n",
      "900/900 [==============================] - 0s 399us/step - loss: 610.7302 - mean_squared_error: 610.7302 - val_loss: 778.4586 - val_mean_squared_error: 778.4586\n",
      "Train on 900 samples, validate on 100 samples\n",
      "Epoch 1/1\n",
      "900/900 [==============================] - 0s 392us/step - loss: 696.4546 - mean_squared_error: 696.4546 - val_loss: 452.7262 - val_mean_squared_error: 452.7262\n",
      "Train on 900 samples, validate on 100 samples\n",
      "Epoch 1/1\n",
      "900/900 [==============================] - 0s 378us/step - loss: 723.2084 - mean_squared_error: 723.2084 - val_loss: 785.4652 - val_mean_squared_error: 785.4652\n",
      "Train on 900 samples, validate on 100 samples\n",
      "Epoch 1/1\n",
      "900/900 [==============================] - 0s 404us/step - loss: 641.1552 - mean_squared_error: 641.1552 - val_loss: 466.0041 - val_mean_squared_error: 466.0041\n",
      "Train on 900 samples, validate on 100 samples\n",
      "Epoch 1/1\n",
      "900/900 [==============================] - 0s 372us/step - loss: 650.5596 - mean_squared_error: 650.5596 - val_loss: 312.5692 - val_mean_squared_error: 312.5692\n",
      "Train on 900 samples, validate on 100 samples\n",
      "Epoch 1/1\n",
      "900/900 [==============================] - 0s 397us/step - loss: 755.1762 - mean_squared_error: 755.1762 - val_loss: 921.5247 - val_mean_squared_error: 921.5247\n",
      "Train on 900 samples, validate on 100 samples\n",
      "Epoch 1/1\n",
      "900/900 [==============================] - 0s 381us/step - loss: 705.7587 - mean_squared_error: 705.7587 - val_loss: 809.6150 - val_mean_squared_error: 809.6150\n",
      "Train on 900 samples, validate on 100 samples\n",
      "Epoch 1/1\n",
      "900/900 [==============================] - 0s 395us/step - loss: 696.3100 - mean_squared_error: 696.3100 - val_loss: 507.5764 - val_mean_squared_error: 507.5764\n",
      "Train on 900 samples, validate on 100 samples\n",
      "Epoch 1/1\n",
      "900/900 [==============================] - 0s 382us/step - loss: 589.9968 - mean_squared_error: 589.9968 - val_loss: 686.6174 - val_mean_squared_error: 686.6174\n",
      "Train on 900 samples, validate on 100 samples\n",
      "Epoch 1/1\n",
      "900/900 [==============================] - 0s 391us/step - loss: 688.4407 - mean_squared_error: 688.4407 - val_loss: 788.8874 - val_mean_squared_error: 788.8874\n",
      "Train on 900 samples, validate on 100 samples\n",
      "Epoch 1/1\n",
      "900/900 [==============================] - 0s 381us/step - loss: 686.1973 - mean_squared_error: 686.1973 - val_loss: 523.1219 - val_mean_squared_error: 523.1219\n",
      "Train on 900 samples, validate on 100 samples\n",
      "Epoch 1/1\n",
      "900/900 [==============================] - 0s 392us/step - loss: 704.4972 - mean_squared_error: 704.4972 - val_loss: 660.0223 - val_mean_squared_error: 660.0223\n",
      "Train on 900 samples, validate on 100 samples\n",
      "Epoch 1/1\n",
      "900/900 [==============================] - 0s 376us/step - loss: 751.1267 - mean_squared_error: 751.1267 - val_loss: 820.0545 - val_mean_squared_error: 820.0545\n",
      "Train on 900 samples, validate on 100 samples\n",
      "Epoch 1/1\n",
      "900/900 [==============================] - 0s 391us/step - loss: 707.9406 - mean_squared_error: 707.9406 - val_loss: 918.6212 - val_mean_squared_error: 918.6212\n",
      "Train on 900 samples, validate on 100 samples\n",
      "Epoch 1/1\n",
      "900/900 [==============================] - 0s 374us/step - loss: 729.1130 - mean_squared_error: 729.1130 - val_loss: 466.0559 - val_mean_squared_error: 466.0559\n",
      "Train on 900 samples, validate on 100 samples\n",
      "Epoch 1/1\n",
      "900/900 [==============================] - 1s 627us/step - loss: 625.1205 - mean_squared_error: 625.1205 - val_loss: 520.1577 - val_mean_squared_error: 520.1577\n",
      "Train on 900 samples, validate on 100 samples\n",
      "Epoch 1/1\n",
      "900/900 [==============================] - 0s 380us/step - loss: 597.5090 - mean_squared_error: 597.5090 - val_loss: 587.8311 - val_mean_squared_error: 587.8311\n",
      "Train on 900 samples, validate on 100 samples\n",
      "Epoch 1/1\n",
      "900/900 [==============================] - 0s 395us/step - loss: 661.7387 - mean_squared_error: 661.7387 - val_loss: 317.3059 - val_mean_squared_error: 317.3059\n",
      "Train on 900 samples, validate on 100 samples\n",
      "Epoch 1/1\n",
      "900/900 [==============================] - 0s 378us/step - loss: 672.5832 - mean_squared_error: 672.5832 - val_loss: 756.3386 - val_mean_squared_error: 756.3386\n",
      "Train on 900 samples, validate on 100 samples\n",
      "Epoch 1/1\n",
      "900/900 [==============================] - 0s 389us/step - loss: 572.4169 - mean_squared_error: 572.4169 - val_loss: 736.4579 - val_mean_squared_error: 736.4579\n",
      "Train on 900 samples, validate on 100 samples\n",
      "Epoch 1/1\n",
      "900/900 [==============================] - 0s 380us/step - loss: 576.9122 - mean_squared_error: 576.9122 - val_loss: 429.7788 - val_mean_squared_error: 429.7788\n",
      "Train on 900 samples, validate on 100 samples\n",
      "Epoch 1/1\n",
      "900/900 [==============================] - 0s 396us/step - loss: 738.9008 - mean_squared_error: 738.9008 - val_loss: 599.5197 - val_mean_squared_error: 599.5197\n",
      "Train on 900 samples, validate on 100 samples\n",
      "Epoch 1/1\n",
      "900/900 [==============================] - 0s 381us/step - loss: 693.0408 - mean_squared_error: 693.0408 - val_loss: 552.5159 - val_mean_squared_error: 552.5159\n",
      "Train on 900 samples, validate on 100 samples\n",
      "Epoch 1/1\n",
      "900/900 [==============================] - 0s 387us/step - loss: 623.7441 - mean_squared_error: 623.7441 - val_loss: 519.1295 - val_mean_squared_error: 519.1295\n",
      "Train on 900 samples, validate on 100 samples\n",
      "Epoch 1/1\n",
      "900/900 [==============================] - 0s 376us/step - loss: 686.5914 - mean_squared_error: 686.5914 - val_loss: 372.3321 - val_mean_squared_error: 372.3321\n",
      "Train on 900 samples, validate on 100 samples\n",
      "Epoch 1/1\n",
      "900/900 [==============================] - 0s 395us/step - loss: 492.5367 - mean_squared_error: 492.5367 - val_loss: 483.5647 - val_mean_squared_error: 483.5647\n"
     ]
    }
   ],
   "source": [
    "import tensorflow as tf\n",
    "from keras.models import Sequential\n",
    "from keras.layers import Dense, Activation, Convolution1D, LSTM\n",
    "from keras.optimizers import Adamax, SGD\n",
    "from keras.callbacks import TensorBoard, EarlyStopping\n",
    "\n",
    "# FULLY CONNECTED SHALLOW ARCHITECTURE\n",
    "model = Sequential([\n",
    "    Dense(100, input_shape=(problem.inputdim(),)),\n",
    "    Activation('relu'),\n",
    "    Dense(80),\n",
    "    Activation('relu'),\n",
    "    Dense(problem.outputdim()),\n",
    "    Activation('linear')\n",
    "])\n",
    "\n",
    "# UNCOMMENT FOR DEBUGGING\n",
    "# from IPython.display import SVG\n",
    "# from keras.utils.vis_utils import model_to_dot\n",
    "# display(SVG(model_to_dot(model).create(prog='dot', format='svg')))\n",
    "\n",
    "model.compile(loss='mean_squared_error',\n",
    "              optimizer=Adamax(),\n",
    "              metrics=['mean_squared_error'])\n",
    "\n",
    "tboard = TensorBoard()\n",
    "\n",
    "# after hours trying to debug Keras in order to use model.fit_generator(),\n",
    "# I decided to just do it manually for now:\n",
    "sampler = problem.sampler(batchsize=batchsize)\n",
    "for _ in range(nepochs):\n",
    "    X, Y = next(sampler)\n",
    "    model.fit(X, Y, batch_size=50, epochs=1, validation_split=.1, callbacks=[tboard])"
   ]
  },
  {
   "cell_type": "markdown",
   "metadata": {},
   "source": [
    "## Prediction"
   ]
  },
  {
   "cell_type": "code",
   "execution_count": 4,
   "metadata": {},
   "outputs": [
    {
     "data": {
      "image/png": "[encoded data removed]",
      "text/plain": [
       "<matplotlib.figure.Figure at 0x1049569d0>"
      ]
     },
     "metadata": {},
     "output_type": "display_data"
    }
   ],
   "source": [
    "import numpy as np\n",
    "import matplotlib.pyplot as plt\n",
    "import seaborn as sns\n",
    "\n",
    "t = 0 # make predictions at this time\n",
    "\n",
    "x, y = problem.featurize(t)\n",
    "yhat = model.predict(np.array([x]))\n",
    "\n",
    "plt.plot(yhat.T)\n",
    "plt.plot(y)\n",
    "plt.show()"
   ]
  },
  {
   "cell_type": "code",
   "execution_count": null,
   "metadata": {
    "collapsed": true
   },
   "outputs": [],
   "source": []
  }
 ],
 "metadata": {
  "kernelspec": {
   "display_name": "Python 2",
   "language": "python",
   "name": "python2"
  },
  "language_info": {
   "codemirror_mode": {
    "name": "ipython",
    "version": 2
   },
   "file_extension": ".py",
   "mimetype": "text/x-python",
   "name": "python",
   "nbconvert_exporter": "python",
   "pygments_lexer": "ipython2",
   "version": "2.7.12"
  }
 },
 "nbformat": 4,
 "nbformat_minor": 2
}
