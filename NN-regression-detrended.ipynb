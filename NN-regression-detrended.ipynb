{
 "cells": [
  {
   "cell_type": "markdown",
   "metadata": {},
   "source": [
    "# Training"
   ]
  },
  {
   "cell_type": "code",
   "execution_count": null,
   "metadata": {},
   "outputs": [
    {
     "name": "stderr",
     "output_type": "stream",
     "text": [
      "/usr/lib/python3.6/importlib/_bootstrap.py:219: RuntimeWarning: compiletime version 3.5 of module 'tensorflow.python.framework.fast_tensor_util' does not match runtime version 3.6\n",
      "  return f(*args, **kwds)\n",
      "Using TensorFlow backend.\n"
     ]
    }
   ],
   "source": [
    "import core.preprocessing as pp\n",
    "from core.neural_net_forecaster import NeuralNetForecaster\n",
    "\n",
    "# Train on the large, but test on the small\n",
    "dm = pp.DataManager()\n",
    "\n",
    "dm.load_all_and_split(kind='all', reindex=True)\n",
    "dftrain = dm.detrended_train\n",
    "\n",
    "dm.load_all_and_split(kind='small', reindex=True)\n",
    "dfdev = dm.detrended_dev\n",
    "\n",
    "# RUN PARAMETERS\n",
    "batchsize = 500\n",
    "niter = 6 * 150000 // batchsize \n",
    "\n",
    "problem = NeuralNetForecaster(dftrain, dfdev, arch='FC1', logdir='./tmp/debug/FC1-detrend',\n",
    "                              niter=niter, batchsize=batchsize,\n",
    "                              learningrate=0.01, sampling=\"rand\")\n",
    "\n",
    "problem.make_forecasts()"
   ]
  },
  {
   "cell_type": "markdown",
   "metadata": {},
   "source": [
    "# Prediction"
   ]
  },
  {
   "cell_type": "code",
   "execution_count": null,
   "metadata": {
    "collapsed": true
   },
   "outputs": [],
   "source": [
    "%matplotlib inline\n",
    "import matplotlib.pyplot as plt\n",
    "import seaborn as sns\n",
    "sns.set(context='talk')\n",
    "\n",
    "problem.plot_test()\n",
    "\n",
    "ax = plt.gca()\n",
    "lim = ax.get_xlim()\n",
    "chunk = (lim[1] - lim[0])/8.\n",
    "start = lim[0] + 2*chunk\n",
    "end = lim[0] + 6*chunk\n",
    "\n",
    "ax.set_xlim(start, end)\n",
    "\n",
    "plt.show()"
   ]
  },
  {
   "cell_type": "code",
   "execution_count": null,
   "metadata": {
    "collapsed": true
   },
   "outputs": [],
   "source": [
    "# Add the forecasts to the DataManager class\n",
    "dm.add_forecasts(problem.forecasts)\n",
    "# Use data manager class to change all indices back to \"real time\"\n",
    "dm.swap_index()"
   ]
  },
  {
   "cell_type": "code",
   "execution_count": null,
   "metadata": {
    "collapsed": true
   },
   "outputs": [],
   "source": [
    "# With the forecasts in \"real time\" the default retrending function may be used\n",
    "transformed_forecasts = [pp.retrend_data(f) for f in dm.forecasts]"
   ]
  },
  {
   "cell_type": "code",
   "execution_count": null,
   "metadata": {
    "collapsed": true
   },
   "outputs": [],
   "source": [
    "# Translate back to \"sequential time\" for plotting\n",
    "dm.add_forecasts(transformed_forecasts)\n",
    "dm.swap_index()"
   ]
  },
  {
   "cell_type": "code",
   "execution_count": null,
   "metadata": {
    "collapsed": true
   },
   "outputs": [],
   "source": [
    "from core.utilities import plot_forecasts\n",
    "\n",
    "plot_forecasts(dm.original_dev, dm.forecasts)\n",
    "ax = plt.gca()\n",
    "lim = ax.get_xlim()\n",
    "chunk = (lim[1] - lim[0])/8.\n",
    "start = lim[0] + 2*chunk\n",
    "end = lim[0] + 6*chunk\n",
    "ax.set_ylim(-50, 350)\n",
    "ax.set_xlim(start, end)"
   ]
  },
  {
   "cell_type": "code",
   "execution_count": null,
   "metadata": {
    "collapsed": true
   },
   "outputs": [],
   "source": [
    "problem.calc_mse()"
   ]
  }
 ],
 "metadata": {
  "kernelspec": {
   "display_name": "Python 3",
   "language": "python",
   "name": "python3"
  },
  "language_info": {
   "codemirror_mode": {
    "name": "ipython",
    "version": 3
   },
   "file_extension": ".py",
   "mimetype": "text/x-python",
   "name": "python",
   "nbconvert_exporter": "python",
   "pygments_lexer": "ipython3",
   "version": "3.6.3"
  }
 },
 "nbformat": 4,
 "nbformat_minor": 2
}
