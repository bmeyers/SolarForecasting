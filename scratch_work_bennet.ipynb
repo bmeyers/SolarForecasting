{
 "cells": [
  {
   "cell_type": "code",
   "execution_count": 1,
   "metadata": {
    "collapsed": true
   },
   "outputs": [],
   "source": [
    "from core.preprocessing import make_small_train, make_small_dev, StatisticalClearSky, DataManager, make_batch, CenterScale\n",
    "import numpy as np\n",
    "import pandas as pd\n",
    "df = pd.read_pickle('data/master_dataset.pkl').fillna(0)\n",
    "df = df.loc['2015-07-15':'2017-07-14']\n",
    "import matplotlib.pyplot as plt\n",
    "%matplotlib inline\n",
    "import seaborn as sns\n",
    "sns.set(style='darkgrid', palette='colorblind', context='talk')"
   ]
  },
  {
   "cell_type": "code",
   "execution_count": 2,
   "metadata": {
    "collapsed": true
   },
   "outputs": [],
   "source": [
    "def plot_trends_and_total(df, start=None, stop=None):\n",
    "    if start is None:\n",
    "        start = df.index[0]\n",
    "    if stop is None:\n",
    "        stop = df.index[-1]\n",
    "    cols = df.columns\n",
    "    fig, axes = plt.subplots(nrows=2, figsize=(12,10), sharex=True)\n",
    "    df.loc[start:stop].plot(y=cols[:-1], legend=False, linewidth=1, ax=axes[0])\n",
    "    df.loc[start:stop].plot(y=cols[-1], linewidth=1, ax=axes[1])"
   ]
  },
  {
   "cell_type": "markdown",
   "metadata": {},
   "source": [
    "mixed = make_small_train(df, 'mixed')\n",
    "plot_trends_and_total(mixed)"
   ]
  },
  {
   "cell_type": "markdown",
   "metadata": {},
   "source": [
    "sunny = make_small_train(df, 'sunny')\n",
    "plot_trends_and_total(sunny)"
   ]
  },
  {
   "cell_type": "markdown",
   "metadata": {},
   "source": [
    "cloudy = make_small_train(df, 'cloudy')\n",
    "plot_trends_and_total(cloudy)"
   ]
  },
  {
   "cell_type": "markdown",
   "metadata": {},
   "source": [
    "comb = make_small_train(df, 'combined')\n",
    "plot_trends_and_total(comb)"
   ]
  },
  {
   "cell_type": "markdown",
   "metadata": {},
   "source": [
    "dev = make_small_dev(df)\n",
    "plot_trends_and_total(dev)"
   ]
  },
  {
   "cell_type": "markdown",
   "metadata": {},
   "source": [
    "from core.problems import ManyToOneRegression\n",
    "\n",
    "# Problem parameters\n",
    "window = 5*12 # window size (to be determined from correlation analysis)\n",
    "future = 3*12  # prediction window into the future\n",
    "\n",
    "# Optimization parameters\n",
    "nepochs = 50\n",
    "batchsize = 1000\n",
    "\n",
    "problem = ManyToOneRegression(mixed, window=window, future=future)"
   ]
  },
  {
   "cell_type": "markdown",
   "metadata": {
    "collapsed": true
   },
   "source": [
    "feat = problem.featurize(100)"
   ]
  },
  {
   "cell_type": "markdown",
   "metadata": {},
   "source": [
    "%time np.array([mixed.iloc[i:i+window, :-1].values.ravel() for i in xrange(len(mixed) - problem.window - problem.future)]).shape"
   ]
  },
  {
   "cell_type": "markdown",
   "metadata": {},
   "source": [
    "mixed.shape"
   ]
  },
  {
   "cell_type": "markdown",
   "metadata": {},
   "source": [
    "i = 75\n",
    "mixed.iloc[i:i+window, :-1].values.ravel()"
   ]
  },
  {
   "cell_type": "code",
   "execution_count": null,
   "metadata": {
    "collapsed": true
   },
   "outputs": [],
   "source": [
    "dm = DataManager()\n",
    "dm.load_all_and_split(reindex=True)"
   ]
  },
  {
   "cell_type": "code",
   "execution_count": null,
   "metadata": {
    "collapsed": true
   },
   "outputs": [],
   "source": [
    "scale = CenterScale(y_data=-1)\n",
    "scale.fit(dm.original_train)"
   ]
  },
  {
   "cell_type": "code",
   "execution_count": null,
   "metadata": {
    "collapsed": true
   },
   "outputs": [],
   "source": [
    "test = scale.apply(dm.original_train)"
   ]
  },
  {
   "cell_type": "code",
   "execution_count": null,
   "metadata": {},
   "outputs": [],
   "source": [
    "test['S03'].plot()"
   ]
  },
  {
   "cell_type": "code",
   "execution_count": null,
   "metadata": {},
   "outputs": [],
   "source": [
    "plot_trends_and_total(test)"
   ]
  },
  {
   "cell_type": "code",
   "execution_count": null,
   "metadata": {
    "collapsed": true
   },
   "outputs": [],
   "source": [
    "dm.swap_index()"
   ]
  },
  {
   "cell_type": "code",
   "execution_count": 3,
   "metadata": {
    "collapsed": true
   },
   "outputs": [],
   "source": [
    "present = 3*12\n",
    "future = 3*12\n",
    "\n",
    "dm = DataManager()\n",
    "dm.load_all_and_split(kind='all')\n",
    "dftrain = dm.original_train\n",
    "dfdev = dm.original_dev"
   ]
  },
  {
   "cell_type": "code",
   "execution_count": null,
   "metadata": {
    "collapsed": true
   },
   "outputs": [],
   "source": [
    "X, Y = make_batch(dftrain, 100, present, future, exo=True)"
   ]
  },
  {
   "cell_type": "code",
   "execution_count": null,
   "metadata": {
    "collapsed": true
   },
   "outputs": [],
   "source": [
    "X.shape"
   ]
  },
  {
   "cell_type": "code",
   "execution_count": null,
   "metadata": {
    "collapsed": true
   },
   "outputs": [],
   "source": [
    "X[4,-5:]"
   ]
  },
  {
   "cell_type": "code",
   "execution_count": null,
   "metadata": {
    "collapsed": true
   },
   "outputs": [],
   "source": [
    "for s in xrange(20):\n",
    "    plt.plot(X[52,s*present:(s+1)*present])"
   ]
  },
  {
   "cell_type": "code",
   "execution_count": null,
   "metadata": {
    "collapsed": true
   },
   "outputs": [],
   "source": [
    "[plt.plot(Y[52])]"
   ]
  },
  {
   "cell_type": "code",
   "execution_count": null,
   "metadata": {
    "collapsed": true
   },
   "outputs": [],
   "source": [
    "dftrain.index.time[0]"
   ]
  },
  {
   "cell_type": "code",
   "execution_count": null,
   "metadata": {},
   "outputs": [],
   "source": [
    "X.shape"
   ]
  },
  {
   "cell_type": "code",
   "execution_count": null,
   "metadata": {
    "collapsed": true
   },
   "outputs": [],
   "source": [
    "from scipy.signal import fftconvolve"
   ]
  },
  {
   "cell_type": "code",
   "execution_count": null,
   "metadata": {
    "collapsed": true
   },
   "outputs": [],
   "source": [
    "def std_window_1(signal, window):\n",
    "    s = fftconvolve(signal, np.ones(window), mode='same')\n",
    "    q = fftconvolve(np.power(signal, 2), np.ones(window), mode='same')\n",
    "    var = (q - np.power(s, 2) *1./ window) / (window - 1)\n",
    "    stdev = np.sqrt(var)\n",
    "    return stdev"
   ]
  },
  {
   "cell_type": "code",
   "execution_count": null,
   "metadata": {
    "collapsed": true
   },
   "outputs": [],
   "source": [
    "def std_window_2(signal, window):\n",
    "    if isinstance(signal, pd.core.series.Series):\n",
    "        stdev = signal.rolling(window=window, center=True).std()\n",
    "    else:\n",
    "        series = pd.Series(data=signal)\n",
    "        stdev = series.rolling(window=window, center=True).std()\n",
    "    return stdev"
   ]
  },
  {
   "cell_type": "code",
   "execution_count": null,
   "metadata": {
    "collapsed": true
   },
   "outputs": [],
   "source": [
    "def totalvar(arr):\n",
    "    diff = arr[:-1] - arr[1:]\n",
    "    return np.sum(np.abs(diff))\n",
    "\n",
    "def totalvar_window(signal, window):\n",
    "    if isinstance(signal, pd.core.series.Series):\n",
    "        stdev = signal.rolling(window=window, center=True).apply(totalvar)\n",
    "    else:\n",
    "        series = pd.Series(data=signal)\n",
    "        stdev = series.rolling(window=window, center=True).std()\n",
    "    return stdev"
   ]
  },
  {
   "cell_type": "code",
   "execution_count": null,
   "metadata": {},
   "outputs": [],
   "source": [
    "%timeit std_window_1(dm.original_train['total_power'], 5)"
   ]
  },
  {
   "cell_type": "code",
   "execution_count": null,
   "metadata": {},
   "outputs": [],
   "source": [
    "%timeit std_window_2(dm.original_train['total_power'], 5)"
   ]
  },
  {
   "cell_type": "code",
   "execution_count": null,
   "metadata": {},
   "outputs": [],
   "source": [
    "plt.plot(std_window_2(dm.original_full['total_power'].iloc[100*3*2:100*3*5], window=24), linewidth=1)"
   ]
  },
  {
   "cell_type": "code",
   "execution_count": null,
   "metadata": {},
   "outputs": [],
   "source": [
    "plt.plot(totalvar_window(dm.detrended_full['total_power'].iloc[100*3*2:100*3*5], window=24), linewidth=1)"
   ]
  },
  {
   "cell_type": "code",
   "execution_count": null,
   "metadata": {},
   "outputs": [],
   "source": [
    "plot_trends_and_total(dm.original_full.iloc[100*3*2:100*3*5])"
   ]
  },
  {
   "cell_type": "code",
   "execution_count": 6,
   "metadata": {
    "collapsed": true
   },
   "outputs": [],
   "source": [
    "dm.make_error_target()"
   ]
  },
  {
   "cell_type": "code",
   "execution_count": 10,
   "metadata": {
    "scrolled": true
   },
   "outputs": [
    {
     "data": {
      "text/html": [
       "<div>\n",
       "<style scoped>\n",
       "    .dataframe tbody tr th:only-of-type {\n",
       "        vertical-align: middle;\n",
       "    }\n",
       "\n",
       "    .dataframe tbody tr th {\n",
       "        vertical-align: top;\n",
       "    }\n",
       "\n",
       "    .dataframe thead th {\n",
       "        text-align: right;\n",
       "    }\n",
       "</style>\n",
       "<table border=\"1\" class=\"dataframe\">\n",
       "  <thead>\n",
       "    <tr style=\"text-align: right;\">\n",
       "      <th></th>\n",
       "      <th>error_target</th>\n",
       "    </tr>\n",
       "  </thead>\n",
       "  <tbody>\n",
       "    <tr>\n",
       "      <th>2015-07-15 00:00:00</th>\n",
       "      <td>NaN</td>\n",
       "    </tr>\n",
       "    <tr>\n",
       "      <th>2015-07-15 00:05:00</th>\n",
       "      <td>NaN</td>\n",
       "    </tr>\n",
       "    <tr>\n",
       "      <th>2015-07-15 00:10:00</th>\n",
       "      <td>NaN</td>\n",
       "    </tr>\n",
       "    <tr>\n",
       "      <th>2015-07-15 00:15:00</th>\n",
       "      <td>NaN</td>\n",
       "    </tr>\n",
       "    <tr>\n",
       "      <th>2015-07-15 00:20:00</th>\n",
       "      <td>NaN</td>\n",
       "    </tr>\n",
       "    <tr>\n",
       "      <th>2015-07-15 00:25:00</th>\n",
       "      <td>NaN</td>\n",
       "    </tr>\n",
       "    <tr>\n",
       "      <th>2015-07-15 00:30:00</th>\n",
       "      <td>NaN</td>\n",
       "    </tr>\n",
       "    <tr>\n",
       "      <th>2015-07-15 00:35:00</th>\n",
       "      <td>NaN</td>\n",
       "    </tr>\n",
       "    <tr>\n",
       "      <th>2015-07-15 00:40:00</th>\n",
       "      <td>NaN</td>\n",
       "    </tr>\n",
       "    <tr>\n",
       "      <th>2015-07-15 00:45:00</th>\n",
       "      <td>NaN</td>\n",
       "    </tr>\n",
       "    <tr>\n",
       "      <th>2015-07-15 00:50:00</th>\n",
       "      <td>NaN</td>\n",
       "    </tr>\n",
       "    <tr>\n",
       "      <th>2015-07-15 00:55:00</th>\n",
       "      <td>NaN</td>\n",
       "    </tr>\n",
       "    <tr>\n",
       "      <th>2015-07-15 01:00:00</th>\n",
       "      <td>NaN</td>\n",
       "    </tr>\n",
       "    <tr>\n",
       "      <th>2015-07-15 01:05:00</th>\n",
       "      <td>NaN</td>\n",
       "    </tr>\n",
       "    <tr>\n",
       "      <th>2015-07-15 01:10:00</th>\n",
       "      <td>NaN</td>\n",
       "    </tr>\n",
       "    <tr>\n",
       "      <th>2015-07-15 01:15:00</th>\n",
       "      <td>NaN</td>\n",
       "    </tr>\n",
       "    <tr>\n",
       "      <th>2015-07-15 01:20:00</th>\n",
       "      <td>NaN</td>\n",
       "    </tr>\n",
       "    <tr>\n",
       "      <th>2015-07-15 01:25:00</th>\n",
       "      <td>NaN</td>\n",
       "    </tr>\n",
       "    <tr>\n",
       "      <th>2015-07-15 01:30:00</th>\n",
       "      <td>NaN</td>\n",
       "    </tr>\n",
       "    <tr>\n",
       "      <th>2015-07-15 01:35:00</th>\n",
       "      <td>NaN</td>\n",
       "    </tr>\n",
       "    <tr>\n",
       "      <th>2015-07-15 01:40:00</th>\n",
       "      <td>NaN</td>\n",
       "    </tr>\n",
       "    <tr>\n",
       "      <th>2015-07-15 01:45:00</th>\n",
       "      <td>NaN</td>\n",
       "    </tr>\n",
       "    <tr>\n",
       "      <th>2015-07-15 01:50:00</th>\n",
       "      <td>NaN</td>\n",
       "    </tr>\n",
       "    <tr>\n",
       "      <th>2015-07-15 01:55:00</th>\n",
       "      <td>NaN</td>\n",
       "    </tr>\n",
       "    <tr>\n",
       "      <th>2015-07-15 02:00:00</th>\n",
       "      <td>NaN</td>\n",
       "    </tr>\n",
       "    <tr>\n",
       "      <th>2015-07-15 02:05:00</th>\n",
       "      <td>NaN</td>\n",
       "    </tr>\n",
       "    <tr>\n",
       "      <th>2015-07-15 02:10:00</th>\n",
       "      <td>NaN</td>\n",
       "    </tr>\n",
       "    <tr>\n",
       "      <th>2015-07-15 02:15:00</th>\n",
       "      <td>NaN</td>\n",
       "    </tr>\n",
       "    <tr>\n",
       "      <th>2015-07-15 02:20:00</th>\n",
       "      <td>NaN</td>\n",
       "    </tr>\n",
       "    <tr>\n",
       "      <th>2015-07-15 02:25:00</th>\n",
       "      <td>NaN</td>\n",
       "    </tr>\n",
       "    <tr>\n",
       "      <th>...</th>\n",
       "      <td>...</td>\n",
       "    </tr>\n",
       "    <tr>\n",
       "      <th>2017-07-14 21:30:00</th>\n",
       "      <td>NaN</td>\n",
       "    </tr>\n",
       "    <tr>\n",
       "      <th>2017-07-14 21:35:00</th>\n",
       "      <td>NaN</td>\n",
       "    </tr>\n",
       "    <tr>\n",
       "      <th>2017-07-14 21:40:00</th>\n",
       "      <td>NaN</td>\n",
       "    </tr>\n",
       "    <tr>\n",
       "      <th>2017-07-14 21:45:00</th>\n",
       "      <td>NaN</td>\n",
       "    </tr>\n",
       "    <tr>\n",
       "      <th>2017-07-14 21:50:00</th>\n",
       "      <td>NaN</td>\n",
       "    </tr>\n",
       "    <tr>\n",
       "      <th>2017-07-14 21:55:00</th>\n",
       "      <td>NaN</td>\n",
       "    </tr>\n",
       "    <tr>\n",
       "      <th>2017-07-14 22:00:00</th>\n",
       "      <td>NaN</td>\n",
       "    </tr>\n",
       "    <tr>\n",
       "      <th>2017-07-14 22:05:00</th>\n",
       "      <td>NaN</td>\n",
       "    </tr>\n",
       "    <tr>\n",
       "      <th>2017-07-14 22:10:00</th>\n",
       "      <td>NaN</td>\n",
       "    </tr>\n",
       "    <tr>\n",
       "      <th>2017-07-14 22:15:00</th>\n",
       "      <td>NaN</td>\n",
       "    </tr>\n",
       "    <tr>\n",
       "      <th>2017-07-14 22:20:00</th>\n",
       "      <td>NaN</td>\n",
       "    </tr>\n",
       "    <tr>\n",
       "      <th>2017-07-14 22:25:00</th>\n",
       "      <td>NaN</td>\n",
       "    </tr>\n",
       "    <tr>\n",
       "      <th>2017-07-14 22:30:00</th>\n",
       "      <td>NaN</td>\n",
       "    </tr>\n",
       "    <tr>\n",
       "      <th>2017-07-14 22:35:00</th>\n",
       "      <td>NaN</td>\n",
       "    </tr>\n",
       "    <tr>\n",
       "      <th>2017-07-14 22:40:00</th>\n",
       "      <td>NaN</td>\n",
       "    </tr>\n",
       "    <tr>\n",
       "      <th>2017-07-14 22:45:00</th>\n",
       "      <td>NaN</td>\n",
       "    </tr>\n",
       "    <tr>\n",
       "      <th>2017-07-14 22:50:00</th>\n",
       "      <td>NaN</td>\n",
       "    </tr>\n",
       "    <tr>\n",
       "      <th>2017-07-14 22:55:00</th>\n",
       "      <td>NaN</td>\n",
       "    </tr>\n",
       "    <tr>\n",
       "      <th>2017-07-14 23:00:00</th>\n",
       "      <td>NaN</td>\n",
       "    </tr>\n",
       "    <tr>\n",
       "      <th>2017-07-14 23:05:00</th>\n",
       "      <td>NaN</td>\n",
       "    </tr>\n",
       "    <tr>\n",
       "      <th>2017-07-14 23:10:00</th>\n",
       "      <td>NaN</td>\n",
       "    </tr>\n",
       "    <tr>\n",
       "      <th>2017-07-14 23:15:00</th>\n",
       "      <td>NaN</td>\n",
       "    </tr>\n",
       "    <tr>\n",
       "      <th>2017-07-14 23:20:00</th>\n",
       "      <td>NaN</td>\n",
       "    </tr>\n",
       "    <tr>\n",
       "      <th>2017-07-14 23:25:00</th>\n",
       "      <td>NaN</td>\n",
       "    </tr>\n",
       "    <tr>\n",
       "      <th>2017-07-14 23:30:00</th>\n",
       "      <td>NaN</td>\n",
       "    </tr>\n",
       "    <tr>\n",
       "      <th>2017-07-14 23:35:00</th>\n",
       "      <td>NaN</td>\n",
       "    </tr>\n",
       "    <tr>\n",
       "      <th>2017-07-14 23:40:00</th>\n",
       "      <td>NaN</td>\n",
       "    </tr>\n",
       "    <tr>\n",
       "      <th>2017-07-14 23:45:00</th>\n",
       "      <td>NaN</td>\n",
       "    </tr>\n",
       "    <tr>\n",
       "      <th>2017-07-14 23:50:00</th>\n",
       "      <td>NaN</td>\n",
       "    </tr>\n",
       "    <tr>\n",
       "      <th>2017-07-14 23:55:00</th>\n",
       "      <td>NaN</td>\n",
       "    </tr>\n",
       "  </tbody>\n",
       "</table>\n",
       "<p>210528 rows × 1 columns</p>\n",
       "</div>"
      ],
      "text/plain": [
       "                    error_target\n",
       "2015-07-15 00:00:00          NaN\n",
       "2015-07-15 00:05:00          NaN\n",
       "2015-07-15 00:10:00          NaN\n",
       "2015-07-15 00:15:00          NaN\n",
       "2015-07-15 00:20:00          NaN\n",
       "2015-07-15 00:25:00          NaN\n",
       "2015-07-15 00:30:00          NaN\n",
       "2015-07-15 00:35:00          NaN\n",
       "2015-07-15 00:40:00          NaN\n",
       "2015-07-15 00:45:00          NaN\n",
       "2015-07-15 00:50:00          NaN\n",
       "2015-07-15 00:55:00          NaN\n",
       "2015-07-15 01:00:00          NaN\n",
       "2015-07-15 01:05:00          NaN\n",
       "2015-07-15 01:10:00          NaN\n",
       "2015-07-15 01:15:00          NaN\n",
       "2015-07-15 01:20:00          NaN\n",
       "2015-07-15 01:25:00          NaN\n",
       "2015-07-15 01:30:00          NaN\n",
       "2015-07-15 01:35:00          NaN\n",
       "2015-07-15 01:40:00          NaN\n",
       "2015-07-15 01:45:00          NaN\n",
       "2015-07-15 01:50:00          NaN\n",
       "2015-07-15 01:55:00          NaN\n",
       "2015-07-15 02:00:00          NaN\n",
       "2015-07-15 02:05:00          NaN\n",
       "2015-07-15 02:10:00          NaN\n",
       "2015-07-15 02:15:00          NaN\n",
       "2015-07-15 02:20:00          NaN\n",
       "2015-07-15 02:25:00          NaN\n",
       "...                          ...\n",
       "2017-07-14 21:30:00          NaN\n",
       "2017-07-14 21:35:00          NaN\n",
       "2017-07-14 21:40:00          NaN\n",
       "2017-07-14 21:45:00          NaN\n",
       "2017-07-14 21:50:00          NaN\n",
       "2017-07-14 21:55:00          NaN\n",
       "2017-07-14 22:00:00          NaN\n",
       "2017-07-14 22:05:00          NaN\n",
       "2017-07-14 22:10:00          NaN\n",
       "2017-07-14 22:15:00          NaN\n",
       "2017-07-14 22:20:00          NaN\n",
       "2017-07-14 22:25:00          NaN\n",
       "2017-07-14 22:30:00          NaN\n",
       "2017-07-14 22:35:00          NaN\n",
       "2017-07-14 22:40:00          NaN\n",
       "2017-07-14 22:45:00          NaN\n",
       "2017-07-14 22:50:00          NaN\n",
       "2017-07-14 22:55:00          NaN\n",
       "2017-07-14 23:00:00          NaN\n",
       "2017-07-14 23:05:00          NaN\n",
       "2017-07-14 23:10:00          NaN\n",
       "2017-07-14 23:15:00          NaN\n",
       "2017-07-14 23:20:00          NaN\n",
       "2017-07-14 23:25:00          NaN\n",
       "2017-07-14 23:30:00          NaN\n",
       "2017-07-14 23:35:00          NaN\n",
       "2017-07-14 23:40:00          NaN\n",
       "2017-07-14 23:45:00          NaN\n",
       "2017-07-14 23:50:00          NaN\n",
       "2017-07-14 23:55:00          NaN\n",
       "\n",
       "[210528 rows x 1 columns]"
      ]
     },
     "execution_count": 10,
     "metadata": {},
     "output_type": "execute_result"
    }
   ],
   "source": [
    "dm.error_full"
   ]
  },
  {
   "cell_type": "code",
   "execution_count": 11,
   "metadata": {},
   "outputs": [
    {
     "data": {
      "text/plain": [
       "[<matplotlib.lines.Line2D at 0x114849d50>]"
      ]
     },
     "execution_count": 11,
     "metadata": {},
     "output_type": "execute_result"
    },
    {
     "data": {
      "image/png": "[encoded data removed]",
      "text/plain": [
       "<matplotlib.figure.Figure at 0x11472d690>"
      ]
     },
     "metadata": {},
     "output_type": "display_data"
    }
   ],
   "source": [
    "plt.plot(dm.detrended_full['total_power'][:1200])"
   ]
  },
  {
   "cell_type": "code",
   "execution_count": 9,
   "metadata": {},
   "outputs": [
    {
     "data": {
      "text/plain": [
       "[<matplotlib.lines.Line2D at 0x114783610>]"
      ]
     },
     "execution_count": 9,
     "metadata": {},
     "output_type": "execute_result"
    },
    {
     "data": {
      "image/png": "[encoded data removed]",
      "text/plain": [
       "<matplotlib.figure.Figure at 0x110e9e250>"
      ]
     },
     "metadata": {},
     "output_type": "display_data"
    }
   ],
   "source": [
    "plt.plot(dm.error_full[:1200])"
   ]
  },
  {
   "cell_type": "code",
   "execution_count": 13,
   "metadata": {
    "collapsed": true
   },
   "outputs": [],
   "source": [
    "from core.utilities import totalvar_window"
   ]
  },
  {
   "cell_type": "code",
   "execution_count": 18,
   "metadata": {},
   "outputs": [
    {
     "data": {
      "text/html": [
       "<div>\n",
       "<style scoped>\n",
       "    .dataframe tbody tr th:only-of-type {\n",
       "        vertical-align: middle;\n",
       "    }\n",
       "\n",
       "    .dataframe tbody tr th {\n",
       "        vertical-align: top;\n",
       "    }\n",
       "\n",
       "    .dataframe thead th {\n",
       "        text-align: right;\n",
       "    }\n",
       "</style>\n",
       "<table border=\"1\" class=\"dataframe\">\n",
       "  <thead>\n",
       "    <tr style=\"text-align: right;\">\n",
       "      <th></th>\n",
       "      <th>error_target</th>\n",
       "    </tr>\n",
       "  </thead>\n",
       "  <tbody>\n",
       "    <tr>\n",
       "      <th>2015-07-15 00:00:00</th>\n",
       "      <td>NaN</td>\n",
       "    </tr>\n",
       "    <tr>\n",
       "      <th>2015-07-15 00:05:00</th>\n",
       "      <td>NaN</td>\n",
       "    </tr>\n",
       "    <tr>\n",
       "      <th>2015-07-15 00:10:00</th>\n",
       "      <td>NaN</td>\n",
       "    </tr>\n",
       "    <tr>\n",
       "      <th>2015-07-15 00:15:00</th>\n",
       "      <td>NaN</td>\n",
       "    </tr>\n",
       "    <tr>\n",
       "      <th>2015-07-15 00:20:00</th>\n",
       "      <td>NaN</td>\n",
       "    </tr>\n",
       "    <tr>\n",
       "      <th>2015-07-15 00:25:00</th>\n",
       "      <td>NaN</td>\n",
       "    </tr>\n",
       "    <tr>\n",
       "      <th>2015-07-15 00:30:00</th>\n",
       "      <td>NaN</td>\n",
       "    </tr>\n",
       "    <tr>\n",
       "      <th>2015-07-15 00:35:00</th>\n",
       "      <td>NaN</td>\n",
       "    </tr>\n",
       "    <tr>\n",
       "      <th>2015-07-15 00:40:00</th>\n",
       "      <td>NaN</td>\n",
       "    </tr>\n",
       "    <tr>\n",
       "      <th>2015-07-15 00:45:00</th>\n",
       "      <td>NaN</td>\n",
       "    </tr>\n",
       "    <tr>\n",
       "      <th>2015-07-15 00:50:00</th>\n",
       "      <td>NaN</td>\n",
       "    </tr>\n",
       "    <tr>\n",
       "      <th>2015-07-15 00:55:00</th>\n",
       "      <td>NaN</td>\n",
       "    </tr>\n",
       "    <tr>\n",
       "      <th>2015-07-15 01:00:00</th>\n",
       "      <td>3.751478e-13</td>\n",
       "    </tr>\n",
       "    <tr>\n",
       "      <th>2015-07-15 01:05:00</th>\n",
       "      <td>2.295213e-13</td>\n",
       "    </tr>\n",
       "    <tr>\n",
       "      <th>2015-07-15 01:10:00</th>\n",
       "      <td>2.018971e-13</td>\n",
       "    </tr>\n",
       "    <tr>\n",
       "      <th>2015-07-15 01:15:00</th>\n",
       "      <td>1.015011e-13</td>\n",
       "    </tr>\n",
       "    <tr>\n",
       "      <th>2015-07-15 01:20:00</th>\n",
       "      <td>1.105136e-15</td>\n",
       "    </tr>\n",
       "    <tr>\n",
       "      <th>2015-07-15 01:25:00</th>\n",
       "      <td>1.105136e-15</td>\n",
       "    </tr>\n",
       "    <tr>\n",
       "      <th>2015-07-15 01:30:00</th>\n",
       "      <td>5.525679e-16</td>\n",
       "    </tr>\n",
       "    <tr>\n",
       "      <th>2015-07-15 01:35:00</th>\n",
       "      <td>0.000000e+00</td>\n",
       "    </tr>\n",
       "    <tr>\n",
       "      <th>2015-07-15 01:40:00</th>\n",
       "      <td>0.000000e+00</td>\n",
       "    </tr>\n",
       "    <tr>\n",
       "      <th>2015-07-15 01:45:00</th>\n",
       "      <td>0.000000e+00</td>\n",
       "    </tr>\n",
       "    <tr>\n",
       "      <th>2015-07-15 01:50:00</th>\n",
       "      <td>0.000000e+00</td>\n",
       "    </tr>\n",
       "    <tr>\n",
       "      <th>2015-07-15 01:55:00</th>\n",
       "      <td>0.000000e+00</td>\n",
       "    </tr>\n",
       "    <tr>\n",
       "      <th>2015-07-15 02:00:00</th>\n",
       "      <td>0.000000e+00</td>\n",
       "    </tr>\n",
       "    <tr>\n",
       "      <th>2015-07-15 02:05:00</th>\n",
       "      <td>0.000000e+00</td>\n",
       "    </tr>\n",
       "    <tr>\n",
       "      <th>2015-07-15 02:10:00</th>\n",
       "      <td>0.000000e+00</td>\n",
       "    </tr>\n",
       "    <tr>\n",
       "      <th>2015-07-15 02:15:00</th>\n",
       "      <td>0.000000e+00</td>\n",
       "    </tr>\n",
       "    <tr>\n",
       "      <th>2015-07-15 02:20:00</th>\n",
       "      <td>0.000000e+00</td>\n",
       "    </tr>\n",
       "    <tr>\n",
       "      <th>2015-07-15 02:25:00</th>\n",
       "      <td>0.000000e+00</td>\n",
       "    </tr>\n",
       "    <tr>\n",
       "      <th>...</th>\n",
       "      <td>...</td>\n",
       "    </tr>\n",
       "    <tr>\n",
       "      <th>2017-07-14 21:30:00</th>\n",
       "      <td>0.000000e+00</td>\n",
       "    </tr>\n",
       "    <tr>\n",
       "      <th>2017-07-14 21:35:00</th>\n",
       "      <td>0.000000e+00</td>\n",
       "    </tr>\n",
       "    <tr>\n",
       "      <th>2017-07-14 21:40:00</th>\n",
       "      <td>0.000000e+00</td>\n",
       "    </tr>\n",
       "    <tr>\n",
       "      <th>2017-07-14 21:45:00</th>\n",
       "      <td>0.000000e+00</td>\n",
       "    </tr>\n",
       "    <tr>\n",
       "      <th>2017-07-14 21:50:00</th>\n",
       "      <td>0.000000e+00</td>\n",
       "    </tr>\n",
       "    <tr>\n",
       "      <th>2017-07-14 21:55:00</th>\n",
       "      <td>0.000000e+00</td>\n",
       "    </tr>\n",
       "    <tr>\n",
       "      <th>2017-07-14 22:00:00</th>\n",
       "      <td>0.000000e+00</td>\n",
       "    </tr>\n",
       "    <tr>\n",
       "      <th>2017-07-14 22:05:00</th>\n",
       "      <td>0.000000e+00</td>\n",
       "    </tr>\n",
       "    <tr>\n",
       "      <th>2017-07-14 22:10:00</th>\n",
       "      <td>0.000000e+00</td>\n",
       "    </tr>\n",
       "    <tr>\n",
       "      <th>2017-07-14 22:15:00</th>\n",
       "      <td>0.000000e+00</td>\n",
       "    </tr>\n",
       "    <tr>\n",
       "      <th>2017-07-14 22:20:00</th>\n",
       "      <td>0.000000e+00</td>\n",
       "    </tr>\n",
       "    <tr>\n",
       "      <th>2017-07-14 22:25:00</th>\n",
       "      <td>0.000000e+00</td>\n",
       "    </tr>\n",
       "    <tr>\n",
       "      <th>2017-07-14 22:30:00</th>\n",
       "      <td>0.000000e+00</td>\n",
       "    </tr>\n",
       "    <tr>\n",
       "      <th>2017-07-14 22:35:00</th>\n",
       "      <td>0.000000e+00</td>\n",
       "    </tr>\n",
       "    <tr>\n",
       "      <th>2017-07-14 22:40:00</th>\n",
       "      <td>0.000000e+00</td>\n",
       "    </tr>\n",
       "    <tr>\n",
       "      <th>2017-07-14 22:45:00</th>\n",
       "      <td>0.000000e+00</td>\n",
       "    </tr>\n",
       "    <tr>\n",
       "      <th>2017-07-14 22:50:00</th>\n",
       "      <td>0.000000e+00</td>\n",
       "    </tr>\n",
       "    <tr>\n",
       "      <th>2017-07-14 22:55:00</th>\n",
       "      <td>0.000000e+00</td>\n",
       "    </tr>\n",
       "    <tr>\n",
       "      <th>2017-07-14 23:00:00</th>\n",
       "      <td>0.000000e+00</td>\n",
       "    </tr>\n",
       "    <tr>\n",
       "      <th>2017-07-14 23:05:00</th>\n",
       "      <td>NaN</td>\n",
       "    </tr>\n",
       "    <tr>\n",
       "      <th>2017-07-14 23:10:00</th>\n",
       "      <td>NaN</td>\n",
       "    </tr>\n",
       "    <tr>\n",
       "      <th>2017-07-14 23:15:00</th>\n",
       "      <td>NaN</td>\n",
       "    </tr>\n",
       "    <tr>\n",
       "      <th>2017-07-14 23:20:00</th>\n",
       "      <td>NaN</td>\n",
       "    </tr>\n",
       "    <tr>\n",
       "      <th>2017-07-14 23:25:00</th>\n",
       "      <td>NaN</td>\n",
       "    </tr>\n",
       "    <tr>\n",
       "      <th>2017-07-14 23:30:00</th>\n",
       "      <td>NaN</td>\n",
       "    </tr>\n",
       "    <tr>\n",
       "      <th>2017-07-14 23:35:00</th>\n",
       "      <td>NaN</td>\n",
       "    </tr>\n",
       "    <tr>\n",
       "      <th>2017-07-14 23:40:00</th>\n",
       "      <td>NaN</td>\n",
       "    </tr>\n",
       "    <tr>\n",
       "      <th>2017-07-14 23:45:00</th>\n",
       "      <td>NaN</td>\n",
       "    </tr>\n",
       "    <tr>\n",
       "      <th>2017-07-14 23:50:00</th>\n",
       "      <td>NaN</td>\n",
       "    </tr>\n",
       "    <tr>\n",
       "      <th>2017-07-14 23:55:00</th>\n",
       "      <td>NaN</td>\n",
       "    </tr>\n",
       "  </tbody>\n",
       "</table>\n",
       "<p>210528 rows × 1 columns</p>\n",
       "</div>"
      ],
      "text/plain": [
       "                     error_target\n",
       "2015-07-15 00:00:00           NaN\n",
       "2015-07-15 00:05:00           NaN\n",
       "2015-07-15 00:10:00           NaN\n",
       "2015-07-15 00:15:00           NaN\n",
       "2015-07-15 00:20:00           NaN\n",
       "2015-07-15 00:25:00           NaN\n",
       "2015-07-15 00:30:00           NaN\n",
       "2015-07-15 00:35:00           NaN\n",
       "2015-07-15 00:40:00           NaN\n",
       "2015-07-15 00:45:00           NaN\n",
       "2015-07-15 00:50:00           NaN\n",
       "2015-07-15 00:55:00           NaN\n",
       "2015-07-15 01:00:00  3.751478e-13\n",
       "2015-07-15 01:05:00  2.295213e-13\n",
       "2015-07-15 01:10:00  2.018971e-13\n",
       "2015-07-15 01:15:00  1.015011e-13\n",
       "2015-07-15 01:20:00  1.105136e-15\n",
       "2015-07-15 01:25:00  1.105136e-15\n",
       "2015-07-15 01:30:00  5.525679e-16\n",
       "2015-07-15 01:35:00  0.000000e+00\n",
       "2015-07-15 01:40:00  0.000000e+00\n",
       "2015-07-15 01:45:00  0.000000e+00\n",
       "2015-07-15 01:50:00  0.000000e+00\n",
       "2015-07-15 01:55:00  0.000000e+00\n",
       "2015-07-15 02:00:00  0.000000e+00\n",
       "2015-07-15 02:05:00  0.000000e+00\n",
       "2015-07-15 02:10:00  0.000000e+00\n",
       "2015-07-15 02:15:00  0.000000e+00\n",
       "2015-07-15 02:20:00  0.000000e+00\n",
       "2015-07-15 02:25:00  0.000000e+00\n",
       "...                           ...\n",
       "2017-07-14 21:30:00  0.000000e+00\n",
       "2017-07-14 21:35:00  0.000000e+00\n",
       "2017-07-14 21:40:00  0.000000e+00\n",
       "2017-07-14 21:45:00  0.000000e+00\n",
       "2017-07-14 21:50:00  0.000000e+00\n",
       "2017-07-14 21:55:00  0.000000e+00\n",
       "2017-07-14 22:00:00  0.000000e+00\n",
       "2017-07-14 22:05:00  0.000000e+00\n",
       "2017-07-14 22:10:00  0.000000e+00\n",
       "2017-07-14 22:15:00  0.000000e+00\n",
       "2017-07-14 22:20:00  0.000000e+00\n",
       "2017-07-14 22:25:00  0.000000e+00\n",
       "2017-07-14 22:30:00  0.000000e+00\n",
       "2017-07-14 22:35:00  0.000000e+00\n",
       "2017-07-14 22:40:00  0.000000e+00\n",
       "2017-07-14 22:45:00  0.000000e+00\n",
       "2017-07-14 22:50:00  0.000000e+00\n",
       "2017-07-14 22:55:00  0.000000e+00\n",
       "2017-07-14 23:00:00  0.000000e+00\n",
       "2017-07-14 23:05:00           NaN\n",
       "2017-07-14 23:10:00           NaN\n",
       "2017-07-14 23:15:00           NaN\n",
       "2017-07-14 23:20:00           NaN\n",
       "2017-07-14 23:25:00           NaN\n",
       "2017-07-14 23:30:00           NaN\n",
       "2017-07-14 23:35:00           NaN\n",
       "2017-07-14 23:40:00           NaN\n",
       "2017-07-14 23:45:00           NaN\n",
       "2017-07-14 23:50:00           NaN\n",
       "2017-07-14 23:55:00           NaN\n",
       "\n",
       "[210528 rows x 1 columns]"
      ]
     },
     "execution_count": 18,
     "metadata": {},
     "output_type": "execute_result"
    }
   ],
   "source": [
    "df1 = pd.DataFrame(data=totalvar_window(dm.detrended_full['total_power'], 24))\n",
    "df1.columns= ['error_target']\n",
    "df1"
   ]
  }
 ],
 "metadata": {
  "kernelspec": {
   "display_name": "Python 2",
   "language": "python",
   "name": "python2"
  },
  "language_info": {
   "codemirror_mode": {
    "name": "ipython",
    "version": 2
   },
   "file_extension": ".py",
   "mimetype": "text/x-python",
   "name": "python",
   "nbconvert_exporter": "python",
   "pygments_lexer": "ipython2",
   "version": "2.7.12"
  }
 },
 "nbformat": 4,
 "nbformat_minor": 2
}
