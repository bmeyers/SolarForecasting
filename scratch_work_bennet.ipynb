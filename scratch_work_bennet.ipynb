{
 "cells": [
  {
   "cell_type": "code",
   "execution_count": 1,
   "metadata": {
    "collapsed": true
   },
   "outputs": [],
   "source": [
    "from core.preprocessing import make_small_train, make_small_dev, StatisticalClearSky, DataManager\n",
    "import numpy as np\n",
    "import pandas as pd\n",
    "df = pd.read_pickle('data/master_dataset.pkl').fillna(0)\n",
    "df = df.loc['2015-07-15':'2017-07-14']\n",
    "import matplotlib.pyplot as plt\n",
    "%matplotlib inline\n",
    "import seaborn as sns\n",
    "sns.set(style='darkgrid', palette='colorblind', context='talk')"
   ]
  },
  {
   "cell_type": "code",
   "execution_count": 2,
   "metadata": {
    "collapsed": true
   },
   "outputs": [],
   "source": [
    "def plot_trends_and_total(df, start=None, stop=None):\n",
    "    if start is None:\n",
    "        start = df.index[0]\n",
    "    if stop is None:\n",
    "        stop = df.index[-1]\n",
    "    cols = df.columns\n",
    "    fig, axes = plt.subplots(nrows=2, figsize=(12,10), sharex=True)\n",
    "    df.loc[start:stop].plot(y=cols[:-1], legend=False, linewidth=1, ax=axes[0])\n",
    "    df.loc[start:stop].plot(y=cols[-1], linewidth=1, ax=axes[1])"
   ]
  },
  {
   "cell_type": "markdown",
   "metadata": {},
   "source": [
    "mixed = make_small_train(df, 'mixed')\n",
    "plot_trends_and_total(mixed)"
   ]
  },
  {
   "cell_type": "markdown",
   "metadata": {},
   "source": [
    "sunny = make_small_train(df, 'sunny')\n",
    "plot_trends_and_total(sunny)"
   ]
  },
  {
   "cell_type": "markdown",
   "metadata": {},
   "source": [
    "cloudy = make_small_train(df, 'cloudy')\n",
    "plot_trends_and_total(cloudy)"
   ]
  },
  {
   "cell_type": "markdown",
   "metadata": {},
   "source": [
    "comb = make_small_train(df, 'combined')\n",
    "plot_trends_and_total(comb)"
   ]
  },
  {
   "cell_type": "markdown",
   "metadata": {},
   "source": [
    "dev = make_small_dev(df)\n",
    "plot_trends_and_total(dev)"
   ]
  },
  {
   "cell_type": "markdown",
   "metadata": {},
   "source": [
    "from core.problems import ManyToOneRegression\n",
    "\n",
    "# Problem parameters\n",
    "window = 5*12 # window size (to be determined from correlation analysis)\n",
    "future = 3*12  # prediction window into the future\n",
    "\n",
    "# Optimization parameters\n",
    "nepochs = 50\n",
    "batchsize = 1000\n",
    "\n",
    "problem = ManyToOneRegression(mixed, window=window, future=future)"
   ]
  },
  {
   "cell_type": "markdown",
   "metadata": {
    "collapsed": true
   },
   "source": [
    "feat = problem.featurize(100)"
   ]
  },
  {
   "cell_type": "markdown",
   "metadata": {},
   "source": [
    "%time np.array([mixed.iloc[i:i+window, :-1].values.ravel() for i in xrange(len(mixed) - problem.window - problem.future)]).shape"
   ]
  },
  {
   "cell_type": "markdown",
   "metadata": {},
   "source": [
    "mixed.shape"
   ]
  },
  {
   "cell_type": "markdown",
   "metadata": {},
   "source": [
    "i = 75\n",
    "mixed.iloc[i:i+window, :-1].values.ravel()"
   ]
  },
  {
   "cell_type": "code",
   "execution_count": 3,
   "metadata": {},
   "outputs": [],
   "source": [
    "dm = DataManager()\n",
    "dm.load_all_and_split()"
   ]
  },
  {
   "cell_type": "code",
   "execution_count": 4,
   "metadata": {},
   "outputs": [
    {
     "data": {
      "text/plain": [
       "2304"
      ]
     },
     "execution_count": 4,
     "metadata": {},
     "output_type": "execute_result"
    }
   ],
   "source": [
    "len(dm.original_dev)"
   ]
  },
  {
   "cell_type": "code",
   "execution_count": 13,
   "metadata": {},
   "outputs": [
    {
     "data": {
      "text/plain": [
       "[<matplotlib.lines.Line2D at 0x116ecf650>]"
      ]
     },
     "execution_count": 13,
     "metadata": {},
     "output_type": "execute_result"
    },
    {
     "data": {
      "image/png": "[encoded data removed]",
      "text/plain": [
       "<matplotlib.figure.Figure at 0x116e22550>"
      ]
     },
     "metadata": {},
     "output_type": "display_data"
    }
   ],
   "source": [
    "plt.plot(dm.original_train.index)"
   ]
  },
  {
   "cell_type": "code",
   "execution_count": 12,
   "metadata": {},
   "outputs": [],
   "source": [
    "dm.swap_index()"
   ]
  },
  {
   "cell_type": "code",
   "execution_count": null,
   "metadata": {
    "collapsed": true
   },
   "outputs": [],
   "source": []
  }
 ],
 "metadata": {
  "kernelspec": {
   "display_name": "Python 2",
   "language": "python",
   "name": "python2"
  },
  "language_info": {
   "codemirror_mode": {
    "name": "ipython",
    "version": 2
   },
   "file_extension": ".py",
   "mimetype": "text/x-python",
   "name": "python",
   "nbconvert_exporter": "python",
   "pygments_lexer": "ipython2",
   "version": "2.7.12"
  }
 },
 "nbformat": 4,
 "nbformat_minor": 2
}
