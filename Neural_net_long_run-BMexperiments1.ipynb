{
 "cells": [
  {
   "cell_type": "code",
   "execution_count": 1,
   "metadata": {},
   "outputs": [
    {
     "name": "stderr",
     "output_type": "stream",
     "text": [
      "Using TensorFlow backend.\n"
     ]
    }
   ],
   "source": [
    "import numpy as np\n",
    "import tensorflow as tf\n",
    "import core.preprocessing as pp\n",
    "from core.net_models import FC, CNN\n",
    "from keras.regularizers import l1, l2\n",
    "\n",
    "LOGDIR = \"./tmp/debug2/\"\n",
    "\n",
    "present = 3*12\n",
    "future = 3*12\n",
    "\n",
    "dm = pp.DataManager()\n",
    "dm.load_all_and_split(kind='all')\n",
    "dftrain = dm.detrended_train\n",
    "dfdev = dm.detrended_dev\n",
    "\n",
    "# Drop columns zeroed out by detrend transformation\n",
    "for item in pp.DROP_LIST:\n",
    "    key = 'S{:02}'.format(item)\n",
    "    del dftrain[key]\n",
    "    del dfdev[key]\n",
    "\n",
    "nseries = dftrain.shape[1] - 1"
   ]
  },
  {
   "cell_type": "code",
   "execution_count": 2,
   "metadata": {
    "collapsed": true
   },
   "outputs": [],
   "source": [
    "def submit(net_model, niter, lr, fname, exo=True):\n",
    "    # Start clean\n",
    "    tf.reset_default_graph()\n",
    "    sess = tf.Session()\n",
    "    \n",
    "    if exo:\n",
    "        extra = 2\n",
    "    else:\n",
    "        extra = 0\n",
    "\n",
    "    # Setup placeholders for input and output\n",
    "    x = tf.placeholder(tf.float32, shape=[None, present*nseries+extra], name=\"x\")\n",
    "    y = tf.placeholder(tf.float32, shape=[None, future], name=\"y\")\n",
    "    \n",
    "    # Similarly, setup placeholders for dev set\n",
    "    xdev = tf.placeholder(tf.float32, shape=[None, present*nseries+extra], name=\"xdev\")\n",
    "    ydev = tf.placeholder(tf.float32, shape=[None, future], name=\"ydev\")\n",
    "    \n",
    "    # Setup placeholders for day of year\n",
    "    day = tf.placeholder(tf.float32, shape=[None, 1], name=\"day\")\n",
    "    daydev = tf.placeholder(tf.float32, shape=[None, 1], name=\"daydev\")\n",
    "    \n",
    "    # Feed forward training and dev examples\n",
    "    if net_model[1] is FC:\n",
    "        nn = net_model[1](net_model[2], regularizer=net_model[3])\n",
    "    elif net_model[1] is CNN:\n",
    "        nn = net_model[1](net_model[2], regularizer=net_model[3], height=nseries, width=present)\n",
    "\n",
    "    yhat    = nn(x)\n",
    "    yhatdev = nn(xdev)\n",
    "\n",
    "    # Define loss in training and dev set\n",
    "    with tf.name_scope(\"loss\"):\n",
    "        train_loss = tf.losses.mean_squared_error(labels=y, predictions=yhat)\n",
    "        dev_loss = tf.losses.mean_squared_error(labels=ydev, predictions=yhatdev)\n",
    "        tf.summary.scalar(\"train_loss\", train_loss)\n",
    "        tf.summary.scalar(\"dev_loss\", dev_loss)\n",
    "\n",
    "    # Minimize training loss\n",
    "    with tf.name_scope(\"train\"):\n",
    "        train_step = tf.train.AdamOptimizer(lr).minimize(train_loss)\n",
    "\n",
    "    # Collect all summaries for TensorBoard\n",
    "    summ = tf.summary.merge_all()\n",
    "\n",
    "    # Start of execution\n",
    "    sess.run(tf.global_variables_initializer())\n",
    "    writer = tf.summary.FileWriter(LOGDIR + fname)\n",
    "    writer.add_graph(sess.graph)\n",
    "\n",
    "    for i in range(niter):\n",
    "        # create batch\n",
    "        X, Y = pp.make_batch(dftrain, 100, present, future, exo=exo)\n",
    "        Xdev, Ydev = pp.make_batch(dfdev, 100, present, future, exo=exo)\n",
    "        D = np.random.normal(size=(100,1))\n",
    "        Ddev = np.random.normal(size=(100,1))\n",
    "        # center data\n",
    "        X = pp.center_design_matrix(X)\n",
    "        Xdev = pp.center_design_matrix(Xdev)\n",
    "        \n",
    "        if i % 5 == 0:\n",
    "            [tloss, dloss, s] = sess.run([train_loss, dev_loss, summ],\n",
    "                                         feed_dict={x: X, y: Y, day: D,\n",
    "                                                    xdev: Xdev, ydev: Ydev, daydev: Ddev})\n",
    "            writer.add_summary(s, i)\n",
    "            writer.flush()\n",
    "        \n",
    "        sess.run(train_step, feed_dict={x: X, y: Y, day: D,\n",
    "                                        xdev: Xdev, ydev: Ydev, daydev: Ddev})"
   ]
  },
  {
   "cell_type": "code",
   "execution_count": 3,
   "metadata": {},
   "outputs": [
    {
     "ename": "KeyboardInterrupt",
     "evalue": "",
     "output_type": "error",
     "traceback": [
      "\u001b[0;31m---------------------------------------------------------------------------\u001b[0m",
      "\u001b[0;31mKeyboardInterrupt\u001b[0m                         Traceback (most recent call last)",
      "\u001b[0;32m<ipython-input-3-d704fa575406>\u001b[0m in \u001b[0;36m<module>\u001b[0;34m()\u001b[0m\n\u001b[1;32m     27\u001b[0m             \u001b[0msubmit\u001b[0m\u001b[0;34m(\u001b[0m\u001b[0mnet_model\u001b[0m\u001b[0;34m,\u001b[0m \u001b[0mniter\u001b[0m\u001b[0;34m,\u001b[0m \u001b[0mlr\u001b[0m\u001b[0;34m,\u001b[0m \u001b[0mfname\u001b[0m\u001b[0;34m)\u001b[0m\u001b[0;34m\u001b[0m\u001b[0m\n\u001b[1;32m     28\u001b[0m \u001b[0;34m\u001b[0m\u001b[0m\n\u001b[0;32m---> 29\u001b[0;31m \u001b[0mmain\u001b[0m\u001b[0;34m(\u001b[0m\u001b[0;34m)\u001b[0m\u001b[0;34m\u001b[0m\u001b[0m\n\u001b[0m",
      "\u001b[0;32m<ipython-input-3-d704fa575406>\u001b[0m in \u001b[0;36mmain\u001b[0;34m()\u001b[0m\n\u001b[1;32m     25\u001b[0m             \u001b[0mfname\u001b[0m \u001b[0;34m=\u001b[0m \u001b[0;34m\"{},lr={}\"\u001b[0m\u001b[0;34m.\u001b[0m\u001b[0mformat\u001b[0m\u001b[0;34m(\u001b[0m\u001b[0mnet_model\u001b[0m\u001b[0;34m[\u001b[0m\u001b[0;36m0\u001b[0m\u001b[0;34m]\u001b[0m\u001b[0;34m,\u001b[0m \u001b[0mlr\u001b[0m\u001b[0;34m)\u001b[0m\u001b[0;34m\u001b[0m\u001b[0m\n\u001b[1;32m     26\u001b[0m \u001b[0;34m\u001b[0m\u001b[0m\n\u001b[0;32m---> 27\u001b[0;31m             \u001b[0msubmit\u001b[0m\u001b[0;34m(\u001b[0m\u001b[0mnet_model\u001b[0m\u001b[0;34m,\u001b[0m \u001b[0mniter\u001b[0m\u001b[0;34m,\u001b[0m \u001b[0mlr\u001b[0m\u001b[0;34m,\u001b[0m \u001b[0mfname\u001b[0m\u001b[0;34m)\u001b[0m\u001b[0;34m\u001b[0m\u001b[0m\n\u001b[0m\u001b[1;32m     28\u001b[0m \u001b[0;34m\u001b[0m\u001b[0m\n\u001b[1;32m     29\u001b[0m \u001b[0mmain\u001b[0m\u001b[0;34m(\u001b[0m\u001b[0;34m)\u001b[0m\u001b[0;34m\u001b[0m\u001b[0m\n",
      "\u001b[0;32m<ipython-input-2-a8c9b95dfd06>\u001b[0m in \u001b[0;36msubmit\u001b[0;34m(net_model, niter, lr, fname)\u001b[0m\n\u001b[1;32m     46\u001b[0m     \u001b[0;32mfor\u001b[0m \u001b[0mi\u001b[0m \u001b[0;32min\u001b[0m \u001b[0mrange\u001b[0m\u001b[0;34m(\u001b[0m\u001b[0mniter\u001b[0m\u001b[0;34m)\u001b[0m\u001b[0;34m:\u001b[0m\u001b[0;34m\u001b[0m\u001b[0m\n\u001b[1;32m     47\u001b[0m         \u001b[0;31m# create batch\u001b[0m\u001b[0;34m\u001b[0m\u001b[0;34m\u001b[0m\u001b[0m\n\u001b[0;32m---> 48\u001b[0;31m         \u001b[0mX\u001b[0m\u001b[0;34m,\u001b[0m \u001b[0mY\u001b[0m \u001b[0;34m=\u001b[0m \u001b[0mpp\u001b[0m\u001b[0;34m.\u001b[0m\u001b[0mmake_batch\u001b[0m\u001b[0;34m(\u001b[0m\u001b[0mdftrain\u001b[0m\u001b[0;34m,\u001b[0m \u001b[0;36m100\u001b[0m\u001b[0;34m,\u001b[0m \u001b[0mpresent\u001b[0m\u001b[0;34m,\u001b[0m \u001b[0mfuture\u001b[0m\u001b[0;34m,\u001b[0m \u001b[0mexo\u001b[0m\u001b[0;34m=\u001b[0m\u001b[0mTrue\u001b[0m\u001b[0;34m)\u001b[0m\u001b[0;34m\u001b[0m\u001b[0m\n\u001b[0m\u001b[1;32m     49\u001b[0m         \u001b[0mXdev\u001b[0m\u001b[0;34m,\u001b[0m \u001b[0mYdev\u001b[0m \u001b[0;34m=\u001b[0m \u001b[0mpp\u001b[0m\u001b[0;34m.\u001b[0m\u001b[0mmake_batch\u001b[0m\u001b[0;34m(\u001b[0m\u001b[0mdfdev\u001b[0m\u001b[0;34m,\u001b[0m \u001b[0;36m100\u001b[0m\u001b[0;34m,\u001b[0m \u001b[0mpresent\u001b[0m\u001b[0;34m,\u001b[0m \u001b[0mfuture\u001b[0m\u001b[0;34m,\u001b[0m \u001b[0mexo\u001b[0m\u001b[0;34m=\u001b[0m\u001b[0mTrue\u001b[0m\u001b[0;34m)\u001b[0m\u001b[0;34m\u001b[0m\u001b[0m\n\u001b[1;32m     50\u001b[0m         \u001b[0mD\u001b[0m \u001b[0;34m=\u001b[0m \u001b[0mnp\u001b[0m\u001b[0;34m.\u001b[0m\u001b[0mrandom\u001b[0m\u001b[0;34m.\u001b[0m\u001b[0mnormal\u001b[0m\u001b[0;34m(\u001b[0m\u001b[0msize\u001b[0m\u001b[0;34m=\u001b[0m\u001b[0;34m(\u001b[0m\u001b[0;36m100\u001b[0m\u001b[0;34m,\u001b[0m\u001b[0;36m1\u001b[0m\u001b[0;34m)\u001b[0m\u001b[0;34m)\u001b[0m\u001b[0;34m\u001b[0m\u001b[0m\n",
      "\u001b[0;32m/Users/bennetmeyers/Documents/CS229/Project/SolarForecasting/core/preprocessing.pyc\u001b[0m in \u001b[0;36mmake_batch\u001b[0;34m(df, size, present, future, exo)\u001b[0m\n\u001b[1;32m    563\u001b[0m     \u001b[0mTakes\u001b[0m \u001b[0ma\u001b[0m \u001b[0mdataframe\u001b[0m \u001b[0;32mand\u001b[0m \u001b[0mproduces\u001b[0m \u001b[0mbatches\u001b[0m \u001b[0mof\u001b[0m \u001b[0mgiven\u001b[0m \u001b[0msize\u001b[0m\u001b[0;34m.\u001b[0m\u001b[0;34m\u001b[0m\u001b[0m\n\u001b[1;32m    564\u001b[0m \u001b[0;34m\u001b[0m\u001b[0m\n\u001b[0;32m--> 565\u001b[0;31m     \u001b[0mParameters\u001b[0m\u001b[0;34m:\u001b[0m\u001b[0;34m\u001b[0m\u001b[0m\n\u001b[0m\u001b[1;32m    566\u001b[0m         \u001b[0msize\u001b[0m    \u001b[0;34m-\u001b[0m \u001b[0mbatch\u001b[0m \u001b[0msize\u001b[0m\u001b[0;34m\u001b[0m\u001b[0m\n\u001b[1;32m    567\u001b[0m         \u001b[0mpresent\u001b[0m \u001b[0;34m-\u001b[0m \u001b[0mnumber\u001b[0m \u001b[0mof\u001b[0m \u001b[0mtime\u001b[0m \u001b[0msteps\u001b[0m \u001b[0;32mfrom\u001b[0m \u001b[0meach\u001b[0m \u001b[0minverter\u001b[0m\u001b[0;34m\u001b[0m\u001b[0m\n",
      "\u001b[0;32m/Users/bennetmeyers/.virtualenvs/sc/lib/python2.7/site-packages/pandas/core/indexes/datetimes.pyc\u001b[0m in \u001b[0;36mtime\u001b[0;34m(self)\u001b[0m\n\u001b[1;32m   1632\u001b[0m         \"\"\"\n\u001b[1;32m   1633\u001b[0m         return self._maybe_mask_results(libalgos.arrmap_object(\n\u001b[0;32m-> 1634\u001b[0;31m             \u001b[0mself\u001b[0m\u001b[0;34m.\u001b[0m\u001b[0masobject\u001b[0m\u001b[0;34m.\u001b[0m\u001b[0mvalues\u001b[0m\u001b[0;34m,\u001b[0m\u001b[0;34m\u001b[0m\u001b[0m\n\u001b[0m\u001b[1;32m   1635\u001b[0m             lambda x: np.nan if x is libts.NaT else x.time()))\n\u001b[1;32m   1636\u001b[0m \u001b[0;34m\u001b[0m\u001b[0m\n",
      "\u001b[0;32m/Users/bennetmeyers/.virtualenvs/sc/lib/python2.7/site-packages/pandas/core/indexes/datetimelike.pyc\u001b[0m in \u001b[0;36masobject\u001b[0;34m(self)\u001b[0m\n\u001b[1;32m    430\u001b[0m         \"\"\"\n\u001b[1;32m    431\u001b[0m         \u001b[0;32mfrom\u001b[0m \u001b[0mpandas\u001b[0m\u001b[0;34m.\u001b[0m\u001b[0mcore\u001b[0m\u001b[0;34m.\u001b[0m\u001b[0mindex\u001b[0m \u001b[0;32mimport\u001b[0m \u001b[0mIndex\u001b[0m\u001b[0;34m\u001b[0m\u001b[0m\n\u001b[0;32m--> 432\u001b[0;31m         \u001b[0;32mreturn\u001b[0m \u001b[0mIndex\u001b[0m\u001b[0;34m(\u001b[0m\u001b[0mself\u001b[0m\u001b[0;34m.\u001b[0m\u001b[0m_box_values\u001b[0m\u001b[0;34m(\u001b[0m\u001b[0mself\u001b[0m\u001b[0;34m.\u001b[0m\u001b[0masi8\u001b[0m\u001b[0;34m)\u001b[0m\u001b[0;34m,\u001b[0m \u001b[0mname\u001b[0m\u001b[0;34m=\u001b[0m\u001b[0mself\u001b[0m\u001b[0;34m.\u001b[0m\u001b[0mname\u001b[0m\u001b[0;34m,\u001b[0m \u001b[0mdtype\u001b[0m\u001b[0;34m=\u001b[0m\u001b[0mobject\u001b[0m\u001b[0;34m)\u001b[0m\u001b[0;34m\u001b[0m\u001b[0m\n\u001b[0m\u001b[1;32m    433\u001b[0m \u001b[0;34m\u001b[0m\u001b[0m\n\u001b[1;32m    434\u001b[0m     \u001b[0;32mdef\u001b[0m \u001b[0m_convert_tolerance\u001b[0m\u001b[0;34m(\u001b[0m\u001b[0mself\u001b[0m\u001b[0;34m,\u001b[0m \u001b[0mtolerance\u001b[0m\u001b[0;34m,\u001b[0m \u001b[0mtarget\u001b[0m\u001b[0;34m)\u001b[0m\u001b[0;34m:\u001b[0m\u001b[0;34m\u001b[0m\u001b[0m\n",
      "\u001b[0;32m/Users/bennetmeyers/.virtualenvs/sc/lib/python2.7/site-packages/pandas/core/indexes/datetimelike.pyc\u001b[0m in \u001b[0;36m_box_values\u001b[0;34m(self, values)\u001b[0m\n\u001b[1;32m    242\u001b[0m         \u001b[0mapply\u001b[0m \u001b[0mbox\u001b[0m \u001b[0mfunc\u001b[0m \u001b[0mto\u001b[0m \u001b[0mpassed\u001b[0m \u001b[0mvalues\u001b[0m\u001b[0;34m\u001b[0m\u001b[0m\n\u001b[1;32m    243\u001b[0m         \"\"\"\n\u001b[0;32m--> 244\u001b[0;31m         \u001b[0;32mreturn\u001b[0m \u001b[0mlib\u001b[0m\u001b[0;34m.\u001b[0m\u001b[0mmap_infer\u001b[0m\u001b[0;34m(\u001b[0m\u001b[0mvalues\u001b[0m\u001b[0;34m,\u001b[0m \u001b[0mself\u001b[0m\u001b[0;34m.\u001b[0m\u001b[0m_box_func\u001b[0m\u001b[0;34m)\u001b[0m\u001b[0;34m\u001b[0m\u001b[0m\n\u001b[0m\u001b[1;32m    245\u001b[0m \u001b[0;34m\u001b[0m\u001b[0m\n\u001b[1;32m    246\u001b[0m     \u001b[0;32mdef\u001b[0m \u001b[0m_format_with_header\u001b[0m\u001b[0;34m(\u001b[0m\u001b[0mself\u001b[0m\u001b[0;34m,\u001b[0m \u001b[0mheader\u001b[0m\u001b[0;34m,\u001b[0m \u001b[0;34m**\u001b[0m\u001b[0mkwargs\u001b[0m\u001b[0;34m)\u001b[0m\u001b[0;34m:\u001b[0m\u001b[0;34m\u001b[0m\u001b[0m\n",
      "\u001b[0;32mpandas/_libs/src/inference.pyx\u001b[0m in \u001b[0;36mpandas._libs.lib.map_infer\u001b[0;34m()\u001b[0m\n",
      "\u001b[0;32m/Users/bennetmeyers/.virtualenvs/sc/lib/python2.7/site-packages/pandas/core/indexes/datetimes.pyc\u001b[0m in \u001b[0;36m<lambda>\u001b[0;34m(x)\u001b[0m\n\u001b[1;32m    554\u001b[0m     \u001b[0;34m@\u001b[0m\u001b[0mproperty\u001b[0m\u001b[0;34m\u001b[0m\u001b[0m\n\u001b[1;32m    555\u001b[0m     \u001b[0;32mdef\u001b[0m \u001b[0m_box_func\u001b[0m\u001b[0;34m(\u001b[0m\u001b[0mself\u001b[0m\u001b[0;34m)\u001b[0m\u001b[0;34m:\u001b[0m\u001b[0;34m\u001b[0m\u001b[0m\n\u001b[0;32m--> 556\u001b[0;31m         \u001b[0;32mreturn\u001b[0m \u001b[0;32mlambda\u001b[0m \u001b[0mx\u001b[0m\u001b[0;34m:\u001b[0m \u001b[0mTimestamp\u001b[0m\u001b[0;34m(\u001b[0m\u001b[0mx\u001b[0m\u001b[0;34m,\u001b[0m \u001b[0mfreq\u001b[0m\u001b[0;34m=\u001b[0m\u001b[0mself\u001b[0m\u001b[0;34m.\u001b[0m\u001b[0moffset\u001b[0m\u001b[0;34m,\u001b[0m \u001b[0mtz\u001b[0m\u001b[0;34m=\u001b[0m\u001b[0mself\u001b[0m\u001b[0;34m.\u001b[0m\u001b[0mtz\u001b[0m\u001b[0;34m)\u001b[0m\u001b[0;34m\u001b[0m\u001b[0m\n\u001b[0m\u001b[1;32m    557\u001b[0m \u001b[0;34m\u001b[0m\u001b[0m\n\u001b[1;32m    558\u001b[0m     \u001b[0;32mdef\u001b[0m \u001b[0m_convert_for_op\u001b[0m\u001b[0;34m(\u001b[0m\u001b[0mself\u001b[0m\u001b[0;34m,\u001b[0m \u001b[0mvalue\u001b[0m\u001b[0;34m)\u001b[0m\u001b[0;34m:\u001b[0m\u001b[0;34m\u001b[0m\u001b[0m\n",
      "\u001b[0;31mKeyboardInterrupt\u001b[0m: "
     ]
    }
   ],
   "source": [
    "net_models = [\n",
    "    ('FC2', FC, [512,512,future], None),\n",
    "    ('FC3', FC, [512,1024,future], None),\n",
    "    \n",
    "    ('FC2-l1', FC, [512,512,future], l1()),\n",
    "    ('FC3-l1', FC, [512,1024,future], l1()),\n",
    "\n",
    "    ('FC2-l2', FC, [512,512,future], l2()),\n",
    "    ('FC3-l2', FC, [512,1024,future], l2())\n",
    "]\n",
    "\n",
    "def main():\n",
    "    for lr in [1e-2]:\n",
    "        for net_model in net_models:\n",
    "            niter = 1500\n",
    "            fname = \"{},lr={}\".format(net_model[0], lr)\n",
    "        \n",
    "            submit(net_model, niter, lr, fname)\n",
    "    \n",
    "main()"
   ]
  },
  {
   "cell_type": "code",
   "execution_count": null,
   "metadata": {
    "collapsed": true
   },
   "outputs": [],
   "source": []
  }
 ],
 "metadata": {
  "kernelspec": {
   "display_name": "Python 2",
   "language": "python",
   "name": "python2"
  },
  "language_info": {
   "codemirror_mode": {
    "name": "ipython",
    "version": 2
   },
   "file_extension": ".py",
   "mimetype": "text/x-python",
   "name": "python",
   "nbconvert_exporter": "python",
   "pygments_lexer": "ipython2",
   "version": "2.7.12"
  }
 },
 "nbformat": 4,
 "nbformat_minor": 2
}
