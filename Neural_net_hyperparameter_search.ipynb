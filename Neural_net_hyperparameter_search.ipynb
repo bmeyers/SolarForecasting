{
 "cells": [
  {
   "cell_type": "code",
   "execution_count": 1,
   "metadata": {},
   "outputs": [
    {
     "name": "stderr",
     "output_type": "stream",
     "text": [
      "/usr/lib/python3.6/importlib/_bootstrap.py:219: RuntimeWarning: compiletime version 3.5 of module 'tensorflow.python.framework.fast_tensor_util' does not match runtime version 3.6\n",
      "  return f(*args, **kwds)\n",
      "Using TensorFlow backend.\n"
     ]
    }
   ],
   "source": [
    "import tensorflow as tf\n",
    "import core.preprocessing as pp\n",
    "from core.net_models import FC, CNN\n",
    "\n",
    "LOGDIR = \"./tmp/debug/\"\n",
    "\n",
    "present = 5*12\n",
    "future = 3*12\n",
    "\n",
    "dm = pp.DataManager()\n",
    "dm.load_all_and_split(kind='small')\n",
    "dftrain = dm.detrended_train\n",
    "dfdev = dm.detrended_dev\n",
    "\n",
    "# Drop columns zeroed out by detrend transformation\n",
    "for item in pp.DROP_LIST:\n",
    "    key = 'S{:02}'.format(item)\n",
    "    del dftrain[key]\n",
    "    del dfdev[key]\n",
    "\n",
    "nseries = dftrain.shape[1] - 1"
   ]
  },
  {
   "cell_type": "code",
   "execution_count": 3,
   "metadata": {
    "collapsed": true
   },
   "outputs": [],
   "source": [
    "def submit(net_model, niter, lr, fname):\n",
    "    # Start clean\n",
    "    tf.reset_default_graph()\n",
    "    sess = tf.Session()\n",
    "\n",
    "    # Setup placeholders for input and output\n",
    "    x = tf.placeholder(tf.float32, shape=[None, present*nseries], name=\"x\")\n",
    "    y = tf.placeholder(tf.float32, shape=[None, future], name=\"y\")\n",
    "    \n",
    "    # Similarly, setup placeholders for dev set\n",
    "    xdev = tf.placeholder(tf.float32, shape=[None, present*nseries], name=\"xdev\")\n",
    "    ydev = tf.placeholder(tf.float32, shape=[None, future], name=\"ydev\")\n",
    "    \n",
    "    # Setup placeholders for day of year\n",
    "    day = tf.placeholder(tf.float32, shape=[None, 1], name=\"day\")\n",
    "    daydev = tf.placeholder(tf.float32, shape=[None, 1], name=\"daydev\")\n",
    "    \n",
    "    # Feed forward training and dev examples\n",
    "    if net_model is 'FC':\n",
    "        nn = FC([1024,512,future])\n",
    "    elif net_model is 'CNN':\n",
    "        nn = CNN([32,64,future], height=nseries, width=present)\n",
    "\n",
    "    yhat    = nn(x)\n",
    "    yhatdev = nn(xdev)\n",
    "\n",
    "    # Define loss in training and dev set\n",
    "    with tf.name_scope(\"loss\"):\n",
    "        train_loss = tf.losses.mean_squared_error(labels=y, predictions=yhat)\n",
    "        dev_loss = tf.losses.mean_squared_error(labels=ydev, predictions=yhatdev)\n",
    "        tf.summary.scalar(\"train_loss\", train_loss)\n",
    "        tf.summary.scalar(\"dev_loss\", dev_loss)\n",
    "\n",
    "    # Minimize training loss\n",
    "    with tf.name_scope(\"train\"):\n",
    "        train_step = tf.train.AdamOptimizer(lr).minimize(train_loss)\n",
    "\n",
    "    # Collect all summaries for TensorBoard\n",
    "    summ = tf.summary.merge_all()\n",
    "\n",
    "    # Start of execution\n",
    "    sess.run(tf.global_variables_initializer())\n",
    "    writer = tf.summary.FileWriter(LOGDIR + fname)\n",
    "    writer.add_graph(sess.graph)\n",
    "\n",
    "    for i in range(niter):\n",
    "        # create batch\n",
    "        X, Y, D = pp.make_batch(dftrain, 100, present, future)\n",
    "        Xdev, Ydev, Ddev = pp.make_batch(dfdev, 100, present, future)\n",
    "        \n",
    "        # center data\n",
    "        X = pp.center_design_matrix(X)\n",
    "        Xdev = pp.center_design_matrix(Xdev)\n",
    "        \n",
    "        if i % 5 == 0:\n",
    "            [tloss, dloss, s] = sess.run([train_loss, dev_loss, summ],\n",
    "                                         feed_dict={x: X, y: Y, day: D,\n",
    "                                                    xdev: Xdev, ydev: Ydev, daydev: Ddev})\n",
    "            writer.add_summary(s, i)\n",
    "            writer.flush()\n",
    "        \n",
    "        sess.run(train_step, feed_dict={x: X, y: Y, day: D,\n",
    "                                        xdev: Xdev, ydev: Ydev, daydev: Ddev})"
   ]
  },
  {
   "cell_type": "code",
   "execution_count": 4,
   "metadata": {
    "scrolled": false
   },
   "outputs": [],
   "source": [
    "net_models = ['CNN', 'FC']\n",
    "\n",
    "def main():\n",
    "    for lr in [1e-2, 1e-3, 1e-4]:\n",
    "        for net_model in net_models:\n",
    "            niter = 100\n",
    "            fname = \"{},lr={}\".format(net_model, lr)\n",
    "        \n",
    "            submit(net_model, niter, lr, fname)\n",
    "    \n",
    "main()"
   ]
  }
 ],
 "metadata": {
  "kernelspec": {
   "display_name": "Python 3",
   "language": "python",
   "name": "python3"
  },
  "language_info": {
   "codemirror_mode": {
    "name": "ipython",
    "version": 3
   },
   "file_extension": ".py",
   "mimetype": "text/x-python",
   "name": "python",
   "nbconvert_exporter": "python",
   "pygments_lexer": "ipython3",
   "version": "3.6.3"
  }
 },
 "nbformat": 4,
 "nbformat_minor": 2
}
