{
 "cells": [
  {
   "cell_type": "code",
   "execution_count": 1,
   "metadata": {},
   "outputs": [
    {
     "name": "stderr",
     "output_type": "stream",
     "text": [
      "Using TensorFlow backend.\n"
     ]
    }
   ],
   "source": [
    "import numpy as np\n",
    "import tensorflow as tf\n",
    "import core.preprocessing as pp\n",
    "from core.net_models import FC, CNN\n",
    "from keras.regularizers import l1, l2\n",
    "\n",
    "LOGDIR = \"./tmp/exo_test2/\"\n",
    "\n",
    "present = 3*12\n",
    "future = 3*12\n",
    "\n",
    "dm = pp.DataManager()\n",
    "dm.load_all_and_split(kind='all')\n",
    "dftrain = dm.detrended_train\n",
    "dfdev = dm.detrended_dev\n",
    "\n",
    "scale = pp.CenterScale(y_data=-1)\n",
    "scale.fit(dftrain)\n",
    "dftrain = scale.apply(dftrain)\n",
    "dfdev = scale.apply(dfdev)\n",
    "\n",
    "nseries = dftrain.shape[1] - 1"
   ]
  },
  {
   "cell_type": "code",
   "execution_count": null,
   "metadata": {
    "collapsed": true
   },
   "outputs": [],
   "source": [
    "def submit(net_model, niter, lr, fname, exo=True):\n",
    "    # Start clean\n",
    "    tf.reset_default_graph()\n",
    "    sess = tf.Session()\n",
    "    \n",
    "    if exo:\n",
    "        extra = 2\n",
    "    else:\n",
    "        extra = 0\n",
    "\n",
    "    # Setup placeholders for input and output\n",
    "    x = tf.placeholder(tf.float32, shape=[None, present*nseries+extra], name=\"x\")\n",
    "    y = tf.placeholder(tf.float32, shape=[None, future], name=\"y\")\n",
    "    \n",
    "    # Similarly, setup placeholders for dev set\n",
    "    xdev = tf.placeholder(tf.float32, shape=[None, present*nseries+extra], name=\"xdev\")\n",
    "    ydev = tf.placeholder(tf.float32, shape=[None, future], name=\"ydev\")\n",
    "    \n",
    "    # Setup placeholders for day of year\n",
    "    day = tf.placeholder(tf.float32, shape=[None, 1], name=\"day\")\n",
    "    daydev = tf.placeholder(tf.float32, shape=[None, 1], name=\"daydev\")\n",
    "    \n",
    "    # Feed forward training and dev examples\n",
    "    if net_model[1] is FC:\n",
    "        nn = net_model[1](net_model[2], regularizer=net_model[3])\n",
    "    elif net_model[1] is CNN:\n",
    "        nn = net_model[1](net_model[2], regularizer=net_model[3], height=nseries, width=present)\n",
    "\n",
    "    yhat    = nn(x)\n",
    "    yhatdev = nn(xdev)\n",
    "\n",
    "    # Define loss in training and dev set\n",
    "    with tf.name_scope(\"loss\"):\n",
    "        train_loss = tf.losses.mean_squared_error(labels=y, predictions=yhat)\n",
    "        dev_loss = tf.losses.mean_squared_error(labels=ydev, predictions=yhatdev)\n",
    "        tf.summary.scalar(\"train_loss\", train_loss)\n",
    "        tf.summary.scalar(\"dev_loss\", dev_loss)\n",
    "\n",
    "    # Minimize training loss\n",
    "    with tf.name_scope(\"train\"):\n",
    "        train_step = tf.train.AdamOptimizer(lr).minimize(train_loss)\n",
    "\n",
    "    # Collect all summaries for TensorBoard\n",
    "    summ = tf.summary.merge_all()\n",
    "\n",
    "    # Start of execution\n",
    "    sess.run(tf.global_variables_initializer())\n",
    "    writer = tf.summary.FileWriter(LOGDIR + fname)\n",
    "    writer.add_graph(sess.graph)\n",
    "\n",
    "    for i in range(niter):\n",
    "        # create batch\n",
    "        X, Y = pp.make_batch(dftrain, 100, present, future, exo=exo)\n",
    "        Xdev, Ydev = pp.make_batch(dfdev, 100, present, future, exo=exo)\n",
    "        D = np.random.normal(size=(100,1))    # placeholder\n",
    "        Ddev = np.random.normal(size=(100,1)) # placeholder\n",
    "        \n",
    "        if i % 5 == 0:\n",
    "            [tloss, dloss, s] = sess.run([train_loss, dev_loss, summ],\n",
    "                                         feed_dict={x: X, y: Y, day: D,\n",
    "                                                    xdev: Xdev, ydev: Ydev, daydev: Ddev})\n",
    "            writer.add_summary(s, i)\n",
    "            writer.flush()\n",
    "        \n",
    "        sess.run(train_step, feed_dict={x: X, y: Y, day: D,\n",
    "                                        xdev: Xdev, ydev: Ydev, daydev: Ddev})"
   ]
  },
  {
   "cell_type": "code",
   "execution_count": null,
   "metadata": {
    "collapsed": true
   },
   "outputs": [],
   "source": [
    "net_models = [\n",
    "    ('FC2', FC, [512,512,future], None),\n",
    "    \n",
    "    ('FC2-l1', FC, [512,512,future], l1()),\n",
    "\n",
    "    ('FC2-l2', FC, [512,512,future], l2())\n",
    "]\n",
    "\n",
    "def main():\n",
    "    for lr in [1e-2]:\n",
    "        for net_model in net_models:\n",
    "            for exo in [True, False]:\n",
    "                niter = 1500\n",
    "                fname = \"{},lr={},exo={}\".format(net_model[0], lr, exo)\n",
    "\n",
    "                submit(net_model, niter, lr, fname, exo)\n",
    "    \n",
    "main()"
   ]
  },
  {
   "cell_type": "code",
   "execution_count": null,
   "metadata": {
    "collapsed": true
   },
   "outputs": [],
   "source": []
  }
 ],
 "metadata": {
  "kernelspec": {
   "display_name": "Python 2",
   "language": "python",
   "name": "python2"
  },
  "language_info": {
   "codemirror_mode": {
    "name": "ipython",
    "version": 2
   },
   "file_extension": ".py",
   "mimetype": "text/x-python",
   "name": "python",
   "nbconvert_exporter": "python",
   "pygments_lexer": "ipython2",
   "version": "2.7.12"
  }
 },
 "nbformat": 4,
 "nbformat_minor": 2
}
