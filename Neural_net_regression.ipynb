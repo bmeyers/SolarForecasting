{
 "cells": [
  {
   "cell_type": "markdown",
   "metadata": {},
   "source": [
    "# Neural network regression\n",
    "\n",
    "In this many-to-one regression setup, we stack the series from all inverters into a long vector and try to predict the aggregate power a few steps ahead. First we load the data and get rid of NaNs:"
   ]
  },
  {
   "cell_type": "code",
   "execution_count": 1,
   "metadata": {},
   "outputs": [],
   "source": [
    "import pandas as pd\n",
    "\n",
    "df = pd.read_csv('data/data.csv').fillna(0)"
   ]
  },
  {
   "cell_type": "markdown",
   "metadata": {},
   "source": [
    " We define the problem and a set of hyperparemeters to tune later:"
   ]
  },
  {
   "cell_type": "code",
   "execution_count": 2,
   "metadata": {
    "collapsed": true
   },
   "outputs": [],
   "source": [
    "from core.problems import ManyToOneRegression\n",
    "\n",
    "# Problem parameters\n",
    "window = 256 # window size (to be determined from correlation analysis)\n",
    "future = 50  # prediction window into the future\n",
    "\n",
    "# Optimization parameters\n",
    "nepochs = 50\n",
    "batchsize = 1000\n",
    "\n",
    "problem = ManyToOneRegression(df, window=window, future=future)"
   ]
  },
  {
   "cell_type": "markdown",
   "metadata": {},
   "source": [
    "## Training"
   ]
  },
  {
   "cell_type": "code",
   "execution_count": 3,
   "metadata": {
    "scrolled": false
   },
   "outputs": [
    {
     "name": "stderr",
     "output_type": "stream",
     "text": [
      "/usr/lib/python3.6/importlib/_bootstrap.py:219: RuntimeWarning: compiletime version 3.5 of module 'tensorflow.python.framework.fast_tensor_util' does not match runtime version 3.6\n",
      "  return f(*args, **kwds)\n",
      "Using TensorFlow backend.\n"
     ]
    },
    {
     "name": "stdout",
     "output_type": "stream",
     "text": [
      "Train on 900 samples, validate on 100 samples\n",
      "Epoch 1/1\n",
      "900/900 [==============================] - 1s 765us/step - loss: 9492.3991 - mean_squared_error: 9492.3991 - val_loss: 3212.4233 - val_mean_squared_error: 3212.4233\n",
      "Train on 900 samples, validate on 100 samples\n",
      "Epoch 1/1\n",
      "900/900 [==============================] - 1s 744us/step - loss: 2066.8450 - mean_squared_error: 2066.8450 - val_loss: 1419.0325 - val_mean_squared_error: 1419.0325\n",
      "Train on 900 samples, validate on 100 samples\n",
      "Epoch 1/1\n",
      "900/900 [==============================] - 1s 816us/step - loss: 1339.7918 - mean_squared_error: 1339.7918 - val_loss: 1087.9094 - val_mean_squared_error: 1087.9094\n",
      "Train on 900 samples, validate on 100 samples\n",
      "Epoch 1/1\n",
      "900/900 [==============================] - 1s 790us/step - loss: 963.9206 - mean_squared_error: 963.9206 - val_loss: 831.5355 - val_mean_squared_error: 831.5355\n",
      "Train on 900 samples, validate on 100 samples\n",
      "Epoch 1/1\n",
      "900/900 [==============================] - 1s 894us/step - loss: 947.5394 - mean_squared_error: 947.5394 - val_loss: 1036.0778 - val_mean_squared_error: 1036.0778\n",
      "Train on 900 samples, validate on 100 samples\n",
      "Epoch 1/1\n",
      "900/900 [==============================] - 1s 818us/step - loss: 932.4173 - mean_squared_error: 932.4173 - val_loss: 660.0789 - val_mean_squared_error: 660.0789\n",
      "Train on 900 samples, validate on 100 samples\n",
      "Epoch 1/1\n",
      "900/900 [==============================] - 1s 851us/step - loss: 1023.0279 - mean_squared_error: 1023.0279 - val_loss: 1249.2877 - val_mean_squared_error: 1249.2877\n",
      "Train on 900 samples, validate on 100 samples\n",
      "Epoch 1/1\n",
      "900/900 [==============================] - 1s 888us/step - loss: 1013.6730 - mean_squared_error: 1013.6730 - val_loss: 516.6694 - val_mean_squared_error: 516.6694\n",
      "Train on 900 samples, validate on 100 samples\n",
      "Epoch 1/1\n",
      "900/900 [==============================] - 1s 809us/step - loss: 979.6950 - mean_squared_error: 979.6950 - val_loss: 1068.0425 - val_mean_squared_error: 1068.0425\n",
      "Train on 900 samples, validate on 100 samples\n",
      "Epoch 1/1\n",
      "900/900 [==============================] - 1s 828us/step - loss: 767.0805 - mean_squared_error: 767.0805 - val_loss: 491.3651 - val_mean_squared_error: 491.3651\n",
      "Train on 900 samples, validate on 100 samples\n",
      "Epoch 1/1\n",
      "900/900 [==============================] - 1s 923us/step - loss: 785.0315 - mean_squared_error: 785.0315 - val_loss: 382.3748 - val_mean_squared_error: 382.3748\n",
      "Train on 900 samples, validate on 100 samples\n",
      "Epoch 1/1\n",
      "900/900 [==============================] - 1s 815us/step - loss: 837.6699 - mean_squared_error: 837.6699 - val_loss: 840.1489 - val_mean_squared_error: 840.1489\n",
      "Train on 900 samples, validate on 100 samples\n",
      "Epoch 1/1\n",
      "900/900 [==============================] - 1s 894us/step - loss: 725.0170 - mean_squared_error: 725.0170 - val_loss: 797.0066 - val_mean_squared_error: 797.0066\n",
      "Train on 900 samples, validate on 100 samples\n",
      "Epoch 1/1\n",
      "900/900 [==============================] - 1s 824us/step - loss: 695.5871 - mean_squared_error: 695.5871 - val_loss: 514.6934 - val_mean_squared_error: 514.6934\n",
      "Train on 900 samples, validate on 100 samples\n",
      "Epoch 1/1\n",
      "900/900 [==============================] - 1s 888us/step - loss: 824.0846 - mean_squared_error: 824.0846 - val_loss: 862.1719 - val_mean_squared_error: 862.1719\n",
      "Train on 900 samples, validate on 100 samples\n",
      "Epoch 1/1\n",
      "900/900 [==============================] - 1s 860us/step - loss: 743.7557 - mean_squared_error: 743.7557 - val_loss: 797.7510 - val_mean_squared_error: 797.7510\n",
      "Train on 900 samples, validate on 100 samples\n",
      "Epoch 1/1\n",
      "900/900 [==============================] - 1s 905us/step - loss: 579.3834 - mean_squared_error: 579.3834 - val_loss: 681.8593 - val_mean_squared_error: 681.8593\n",
      "Train on 900 samples, validate on 100 samples\n",
      "Epoch 1/1\n",
      "900/900 [==============================] - 1s 907us/step - loss: 638.2788 - mean_squared_error: 638.2788 - val_loss: 1030.2651 - val_mean_squared_error: 1030.2651\n",
      "Train on 900 samples, validate on 100 samples\n",
      "Epoch 1/1\n",
      "900/900 [==============================] - 1s 881us/step - loss: 764.2389 - mean_squared_error: 764.2389 - val_loss: 500.6988 - val_mean_squared_error: 500.6988\n",
      "Train on 900 samples, validate on 100 samples\n",
      "Epoch 1/1\n",
      "900/900 [==============================] - 1s 851us/step - loss: 667.4318 - mean_squared_error: 667.4318 - val_loss: 831.1403 - val_mean_squared_error: 831.1403\n",
      "Train on 900 samples, validate on 100 samples\n",
      "Epoch 1/1\n",
      "900/900 [==============================] - 1s 826us/step - loss: 677.4236 - mean_squared_error: 677.4236 - val_loss: 711.7973 - val_mean_squared_error: 711.7973\n",
      "Train on 900 samples, validate on 100 samples\n",
      "Epoch 1/1\n",
      "900/900 [==============================] - 1s 782us/step - loss: 729.4048 - mean_squared_error: 729.4048 - val_loss: 825.0368 - val_mean_squared_error: 825.0368\n",
      "Train on 900 samples, validate on 100 samples\n",
      "Epoch 1/1\n",
      "900/900 [==============================] - 1s 826us/step - loss: 684.9833 - mean_squared_error: 684.9833 - val_loss: 869.7314 - val_mean_squared_error: 869.7314\n",
      "Train on 900 samples, validate on 100 samples\n",
      "Epoch 1/1\n",
      "900/900 [==============================] - 1s 801us/step - loss: 728.4402 - mean_squared_error: 728.4402 - val_loss: 561.2444 - val_mean_squared_error: 561.2444\n",
      "Train on 900 samples, validate on 100 samples\n",
      "Epoch 1/1\n",
      "900/900 [==============================] - 1s 863us/step - loss: 564.7128 - mean_squared_error: 564.7128 - val_loss: 687.2625 - val_mean_squared_error: 687.2625\n",
      "Train on 900 samples, validate on 100 samples\n",
      "Epoch 1/1\n",
      "900/900 [==============================] - 1s 825us/step - loss: 705.5594 - mean_squared_error: 705.5594 - val_loss: 714.2487 - val_mean_squared_error: 714.2487\n",
      "Train on 900 samples, validate on 100 samples\n",
      "Epoch 1/1\n",
      "900/900 [==============================] - 1s 1ms/step - loss: 767.5949 - mean_squared_error: 767.5949 - val_loss: 993.6554 - val_mean_squared_error: 993.6554\n",
      "Train on 900 samples, validate on 100 samples\n",
      "Epoch 1/1\n",
      "900/900 [==============================] - 1s 804us/step - loss: 676.1446 - mean_squared_error: 676.1446 - val_loss: 759.2585 - val_mean_squared_error: 759.2585\n",
      "Train on 900 samples, validate on 100 samples\n",
      "Epoch 1/1\n",
      "900/900 [==============================] - 1s 910us/step - loss: 732.4140 - mean_squared_error: 732.4140 - val_loss: 707.2380 - val_mean_squared_error: 707.2380\n",
      "Train on 900 samples, validate on 100 samples\n",
      "Epoch 1/1\n",
      "900/900 [==============================] - 1s 877us/step - loss: 825.5923 - mean_squared_error: 825.5923 - val_loss: 499.9634 - val_mean_squared_error: 499.9634\n",
      "Train on 900 samples, validate on 100 samples\n",
      "Epoch 1/1\n",
      "900/900 [==============================] - 1s 851us/step - loss: 744.9934 - mean_squared_error: 744.9934 - val_loss: 630.6874 - val_mean_squared_error: 630.6874\n",
      "Train on 900 samples, validate on 100 samples\n",
      "Epoch 1/1\n",
      "900/900 [==============================] - 1s 786us/step - loss: 630.2547 - mean_squared_error: 630.2547 - val_loss: 755.2801 - val_mean_squared_error: 755.2801\n",
      "Train on 900 samples, validate on 100 samples\n",
      "Epoch 1/1\n",
      "900/900 [==============================] - 1s 858us/step - loss: 731.2991 - mean_squared_error: 731.2991 - val_loss: 463.3476 - val_mean_squared_error: 463.3476\n",
      "Train on 900 samples, validate on 100 samples\n",
      "Epoch 1/1\n",
      "900/900 [==============================] - 1s 828us/step - loss: 671.6313 - mean_squared_error: 671.6313 - val_loss: 559.2978 - val_mean_squared_error: 559.2978\n",
      "Train on 900 samples, validate on 100 samples\n",
      "Epoch 1/1\n",
      "900/900 [==============================] - 1s 900us/step - loss: 668.2634 - mean_squared_error: 668.2634 - val_loss: 612.0160 - val_mean_squared_error: 612.0160\n",
      "Train on 900 samples, validate on 100 samples\n",
      "Epoch 1/1\n",
      "900/900 [==============================] - 1s 853us/step - loss: 663.0152 - mean_squared_error: 663.0152 - val_loss: 882.4102 - val_mean_squared_error: 882.4102\n",
      "Train on 900 samples, validate on 100 samples\n",
      "Epoch 1/1\n",
      "900/900 [==============================] - 1s 801us/step - loss: 591.3937 - mean_squared_error: 591.3937 - val_loss: 413.2015 - val_mean_squared_error: 413.2015\n",
      "Train on 900 samples, validate on 100 samples\n",
      "Epoch 1/1\n"
     ]
    },
    {
     "name": "stdout",
     "output_type": "stream",
     "text": [
      "900/900 [==============================] - 1s 877us/step - loss: 715.2031 - mean_squared_error: 715.2031 - val_loss: 401.2320 - val_mean_squared_error: 401.2320\n",
      "Train on 900 samples, validate on 100 samples\n",
      "Epoch 1/1\n",
      "900/900 [==============================] - 1s 742us/step - loss: 630.4709 - mean_squared_error: 630.4709 - val_loss: 984.2444 - val_mean_squared_error: 984.2444\n",
      "Train on 900 samples, validate on 100 samples\n",
      "Epoch 1/1\n",
      "900/900 [==============================] - 1s 732us/step - loss: 745.0282 - mean_squared_error: 745.0282 - val_loss: 589.3445 - val_mean_squared_error: 589.3445\n",
      "Train on 900 samples, validate on 100 samples\n",
      "Epoch 1/1\n",
      "900/900 [==============================] - 1s 1ms/step - loss: 736.1333 - mean_squared_error: 736.1333 - val_loss: 642.5973 - val_mean_squared_error: 642.5973\n",
      "Train on 900 samples, validate on 100 samples\n",
      "Epoch 1/1\n",
      "900/900 [==============================] - 1s 1ms/step - loss: 661.6331 - mean_squared_error: 661.6331 - val_loss: 513.2465 - val_mean_squared_error: 513.2465\n",
      "Train on 900 samples, validate on 100 samples\n",
      "Epoch 1/1\n",
      "900/900 [==============================] - 1s 980us/step - loss: 602.1123 - mean_squared_error: 602.1123 - val_loss: 897.1620 - val_mean_squared_error: 897.1620\n",
      "Train on 900 samples, validate on 100 samples\n",
      "Epoch 1/1\n",
      "900/900 [==============================] - 1s 722us/step - loss: 596.3006 - mean_squared_error: 596.3006 - val_loss: 1066.0305 - val_mean_squared_error: 1066.0305\n",
      "Train on 900 samples, validate on 100 samples\n",
      "Epoch 1/1\n",
      "900/900 [==============================] - 1s 748us/step - loss: 603.7176 - mean_squared_error: 603.7176 - val_loss: 746.1016 - val_mean_squared_error: 746.1016\n",
      "Train on 900 samples, validate on 100 samples\n",
      "Epoch 1/1\n",
      "900/900 [==============================] - 1s 1ms/step - loss: 701.7653 - mean_squared_error: 701.7653 - val_loss: 428.6873 - val_mean_squared_error: 428.6873\n",
      "Train on 900 samples, validate on 100 samples\n",
      "Epoch 1/1\n",
      "900/900 [==============================] - 1s 1ms/step - loss: 682.0096 - mean_squared_error: 682.0096 - val_loss: 598.4258 - val_mean_squared_error: 598.4258\n",
      "Train on 900 samples, validate on 100 samples\n",
      "Epoch 1/1\n",
      "900/900 [==============================] - 1s 762us/step - loss: 711.5357 - mean_squared_error: 711.5357 - val_loss: 542.7341 - val_mean_squared_error: 542.7341\n",
      "Train on 900 samples, validate on 100 samples\n",
      "Epoch 1/1\n",
      "900/900 [==============================] - 1s 750us/step - loss: 596.6981 - mean_squared_error: 596.6981 - val_loss: 480.4515 - val_mean_squared_error: 480.4515\n",
      "Train on 900 samples, validate on 100 samples\n",
      "Epoch 1/1\n",
      "900/900 [==============================] - 1s 777us/step - loss: 688.8923 - mean_squared_error: 688.8923 - val_loss: 699.4069 - val_mean_squared_error: 699.4069\n"
     ]
    }
   ],
   "source": [
    "import tensorflow as tf\n",
    "from keras.models import Sequential\n",
    "from keras.layers import Dense, Activation, Convolution1D, LSTM\n",
    "from keras.optimizers import Adamax, SGD\n",
    "from keras.callbacks import TensorBoard, EarlyStopping\n",
    "\n",
    "# FULLY CONNECTED SHALLOW ARCHITECTURE\n",
    "model = Sequential([\n",
    "    Dense(100, input_shape=(problem.inputdim(),)),\n",
    "    Activation('relu'),\n",
    "    Dense(80),\n",
    "    Activation('relu'),\n",
    "    Dense(problem.outputdim()),\n",
    "    Activation('linear')\n",
    "])\n",
    "\n",
    "# UNCOMMENT FOR DEBUGGING\n",
    "# from IPython.display import SVG\n",
    "# from keras.utils.vis_utils import model_to_dot\n",
    "# display(SVG(model_to_dot(model).create(prog='dot', format='svg')))\n",
    "\n",
    "model.compile(loss='mean_squared_error',\n",
    "              optimizer=Adamax(),\n",
    "              metrics=['mean_squared_error'])\n",
    "\n",
    "tboard = TensorBoard()\n",
    "\n",
    "# after hours trying to debug Keras in order to use model.fit_generator(),\n",
    "# I decided to just do it manually for now:\n",
    "sampler = problem.sampler(batchsize=batchsize)\n",
    "for _ in range(nepochs):\n",
    "    X, Y = next(sampler)\n",
    "    model.fit(X, Y, batch_size=50, epochs=1, validation_split=.1, callbacks=[tboard])"
   ]
  },
  {
   "cell_type": "markdown",
   "metadata": {},
   "source": [
    "## Prediction"
   ]
  },
  {
   "cell_type": "code",
   "execution_count": 5,
   "metadata": {},
   "outputs": [
    {
     "data": {
      "image/png": "[encoded data removed]",
      "text/plain": [
       "<matplotlib.figure.Figure at 0x7ff0a0177a90>"
      ]
     },
     "metadata": {},
     "output_type": "display_data"
    }
   ],
   "source": [
    "import numpy as np\n",
    "import matplotlib.pyplot as plt\n",
    "import seaborn as sns\n",
    "\n",
    "t = 0 # make predictions at this time\n",
    "\n",
    "x, y = problem.featurize(t)\n",
    "yhat = model.predict(np.array([x]))\n",
    "\n",
    "plt.plot(yhat.T)\n",
    "plt.plot(y)\n",
    "plt.show()"
   ]
  }
 ],
 "metadata": {
  "kernelspec": {
   "display_name": "Python 3",
   "language": "python",
   "name": "python3"
  },
  "language_info": {
   "codemirror_mode": {
    "name": "ipython",
    "version": 3
   },
   "file_extension": ".py",
   "mimetype": "text/x-python",
   "name": "python",
   "nbconvert_exporter": "python",
   "pygments_lexer": "ipython3",
   "version": "3.6.3"
  }
 },
 "nbformat": 4,
 "nbformat_minor": 2
}
