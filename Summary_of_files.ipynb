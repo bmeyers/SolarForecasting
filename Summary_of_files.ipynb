{
 "cells": [
  {
   "cell_type": "markdown",
   "metadata": {},
   "source": [
    "# Summarizing the raw files\n",
    "\n",
    "The 218 inverter data files from the SunPower data set contain data of unknown length and quality. Some files have data from 2014 through 2017, while other files represent systems built recently and have less than a year's worth of data. In addition, some sites have experienced outages (either PV or DAS) and are missing data. This notebook inspects summary data for all the files."
   ]
  },
  {
   "cell_type": "code",
   "execution_count": 1,
   "metadata": {},
   "outputs": [],
   "source": [
    "from core.preprocessing import summarize_files\n",
    "import numpy as np\n",
    "import pandas as pd\n",
    "import matplotlib.pyplot as plt\n",
    "from matplotlib.dates import date2num, DateFormatter\n",
    "%matplotlib inline\n",
    "import seaborn as sns\n",
    "sns.set(style='darkgrid', palette='colorblind', context='talk')\n",
    "from simplekml import Kml"
   ]
  },
  {
   "cell_type": "code",
   "execution_count": null,
   "metadata": {
    "collapsed": true
   },
   "outputs": [],
   "source": [
    "path_to_files = '/Users/bennetmeyers/Documents/CS229/Project/data_dump/'"
   ]
  },
  {
   "cell_type": "code",
   "execution_count": null,
   "metadata": {},
   "outputs": [
    {
     "name": "stdout",
     "output_type": "stream",
     "text": [
      "218 files to process\n"
     ]
    }
   ],
   "source": [
    "%time summary = summarize_files(path_to_files, suffix='pkl')"
   ]
  },
  {
   "cell_type": "code",
   "execution_count": null,
   "metadata": {},
   "outputs": [],
   "source": [
    "len(summary)"
   ]
  },
  {
   "cell_type": "code",
   "execution_count": null,
   "metadata": {},
   "outputs": [],
   "source": [
    "summary.head()"
   ]
  },
  {
   "cell_type": "code",
   "execution_count": null,
   "metadata": {},
   "outputs": [],
   "source": [
    "_ = plt.hist(summary['num_vals'], bins=30)"
   ]
  },
  {
   "cell_type": "code",
   "execution_count": null,
   "metadata": {},
   "outputs": [],
   "source": [
    "fig, axes = plt.subplots(nrows=2, figsize=(12,8), sharex=True)\n",
    "axes[0].fill_between(summary.index, date2num(list(summary['t_start'])), date2num(list(summary['t_end'])))\n",
    "xfmt = DateFormatter('%Y-%m-%d')\n",
    "axes[0].yaxis.set_major_formatter(xfmt)\n",
    "axes[1].plot(summary.index, summary['num_vals'])\n",
    "plt.xlabel('Inverter Index Number')\n",
    "axes[0].set_ylabel('Start/End Dates')\n",
    "axes[1].set_ylabel('Data Count')"
   ]
  },
  {
   "cell_type": "code",
   "execution_count": null,
   "metadata": {
    "scrolled": false
   },
   "outputs": [],
   "source": [
    "summary.plot(y='ac_max')"
   ]
  },
  {
   "cell_type": "markdown",
   "metadata": {},
   "source": [
    "The first 10 or so files appear to have AC power in Watts, while all the rest are in kW."
   ]
  },
  {
   "cell_type": "code",
   "execution_count": null,
   "metadata": {},
   "outputs": [],
   "source": [
    "indexer = summary['ac_max'] > 2000\n",
    "summary.loc[indexer, ['ac_max']] = summary.loc[indexer, ['ac_max']] / 1000.\n",
    "summary.loc[indexer, ['ac_min']] = summary.loc[indexer, ['ac_max']] / 1000.\n",
    "summary.loc[indexer, ['ac_avg']] = summary.loc[indexer, ['ac_max']] / 1000.\n",
    "summary.loc[indexer, ['ac_stdev']] = summary.loc[indexer, ['ac_max']] / 1000."
   ]
  },
  {
   "cell_type": "code",
   "execution_count": null,
   "metadata": {},
   "outputs": [],
   "source": [
    "summary.plot(y='ac_max')\n",
    "plt.ylim(0, 40)"
   ]
  },
  {
   "cell_type": "code",
   "execution_count": null,
   "metadata": {},
   "outputs": [],
   "source": [
    "summary.plot(y='ac_avg')\n",
    "plt.ylim(0, 40)"
   ]
  },
  {
   "cell_type": "code",
   "execution_count": null,
   "metadata": {},
   "outputs": [],
   "source": [
    "plt.plot(summary['ac_max'] / summary['ac_avg'])"
   ]
  },
  {
   "cell_type": "code",
   "execution_count": null,
   "metadata": {
    "collapsed": true
   },
   "outputs": [],
   "source": [
    "selection = np.alltrue([\n",
    "    summary['t_start'] <= '2015-07-15',\n",
    "    summary['t_end'] >= '2017-07-15',\n",
    "    summary['num_vals'] >= 100000,\n",
    "    summary['ac_max'] / summary['ac_avg'] <= 10\n",
    "], axis=0)"
   ]
  },
  {
   "cell_type": "code",
   "execution_count": null,
   "metadata": {},
   "outputs": [],
   "source": [
    "num_inverters = np.sum(selection)\n",
    "num_sites = len(set(summary[selection]['site ID']))\n",
    "print 'This selection yields {} sites and {} inverters'.format(num_sites, num_inverters)"
   ]
  },
  {
   "cell_type": "code",
   "execution_count": null,
   "metadata": {
    "collapsed": true
   },
   "outputs": [],
   "source": [
    "selected_sites = set(summary[selection]['site ID'])"
   ]
  },
  {
   "cell_type": "markdown",
   "metadata": {},
   "source": [
    "Load the external metadata file containing the lat/long coordinates."
   ]
  },
  {
   "cell_type": "code",
   "execution_count": null,
   "metadata": {
    "collapsed": true
   },
   "outputs": [],
   "source": [
    "metadata_fp = '/Users/bennetmeyers/Documents/Vader/data/metadata_files/deviceMetaData_20171108_LatLon.csv'\n",
    "site_metadata = pd.read_csv(metadata_fp)"
   ]
  },
  {
   "cell_type": "code",
   "execution_count": null,
   "metadata": {},
   "outputs": [],
   "source": [
    "site_metadata.set_index('serialNumber', inplace=True)"
   ]
  },
  {
   "cell_type": "markdown",
   "metadata": {},
   "source": [
    "Plot the spatial distribution"
   ]
  },
  {
   "cell_type": "code",
   "execution_count": null,
   "metadata": {},
   "outputs": [],
   "source": [
    "sns.set_style('white')\n",
    "coords = site_metadata.loc[selected_sites, ['lat', 'lon']]\n",
    "plt.scatter(coords['lon'], coords['lat'])\n",
    "ax = plt.gca()\n",
    "ax.ticklabel_format(style='plain', axis='x')\n",
    "plt.title('Spatial Distribution of Sites')\n",
    "plt.ylabel('latitude')\n",
    "_ = plt.xlabel('longitude')"
   ]
  },
  {
   "cell_type": "markdown",
   "metadata": {},
   "source": [
    "Write a KML file mapping the locations of the selected sites."
   ]
  },
  {
   "cell_type": "code",
   "execution_count": null,
   "metadata": {},
   "outputs": [],
   "source": [
    "my_kml = Kml()\n",
    "for row in site_metadata.loc[selected_sites].iterrows():\n",
    "    str1 = (row[0]+'<br/>'+'# of inverters: {}'.format(row[1]['inverters'])+\n",
    "            '<br/>'+'type: '+row[1]['addressType'])\n",
    "    pnt = my_kml.newpoint(description=str1, coords=[(row[1]['lon'], row[1]['lat'])])\n",
    "    if row[1]['addressType'] == 'Residential':\n",
    "        pnt.style.iconstyle.icon.href = 'http://maps.google.com/mapfiles/kml/paddle/ylw-blank.png'\n",
    "    elif row[1]['addressType'] == 'Commercial':\n",
    "        pnt.style.iconstyle.icon.href = 'http://maps.google.com/mapfiles/kml/paddle/blu-blank.png'\n",
    "    else:\n",
    "        pnt.style.iconstyle.icon.href = 'http://maps.google.com/mapfiles/kml/paddle/wht-blank.png'"
   ]
  },
  {
   "cell_type": "code",
   "execution_count": null,
   "metadata": {},
   "outputs": [],
   "source": [
    "my_kml.save(\"selected_sites.kml\")"
   ]
  },
  {
   "cell_type": "code",
   "execution_count": null,
   "metadata": {},
   "outputs": [],
   "source": [
    "np.savetxt('selected_sites.txt', np.asarray(list(selected_sites)), fmt='%s')"
   ]
  }
 ],
 "metadata": {
  "kernelspec": {
   "display_name": "Python 2",
   "language": "python",
   "name": "python2"
  },
  "language_info": {
   "codemirror_mode": {
    "name": "ipython",
    "version": 2
   },
   "file_extension": ".py",
   "mimetype": "text/x-python",
   "name": "python",
   "nbconvert_exporter": "python",
   "pygments_lexer": "ipython2",
   "version": "2.7.12"
  }
 },
 "nbformat": 4,
 "nbformat_minor": 2
}
